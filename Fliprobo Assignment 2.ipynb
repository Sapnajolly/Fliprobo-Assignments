{
 "cells": [
  {
   "cell_type": "code",
   "execution_count": 1,
   "id": "379bdf15",
   "metadata": {},
   "outputs": [],
   "source": [
    "#question1, Scrape data for Data Analyst position in Bangalore"
   ]
  },
  {
   "cell_type": "code",
   "execution_count": 47,
   "id": "56b37a74",
   "metadata": {
    "scrolled": true
   },
   "outputs": [
    {
     "name": "stdout",
     "output_type": "stream",
     "text": [
      "Requirement already satisfied: selenium in c:\\users\\ricky riddhi\\anaconda3\\lib\\site-packages (4.1.3)\n",
      "Requirement already satisfied: trio~=0.17 in c:\\users\\ricky riddhi\\anaconda3\\lib\\site-packages (from selenium) (0.20.0)\n",
      "Requirement already satisfied: urllib3[secure,socks]~=1.26 in c:\\users\\ricky riddhi\\anaconda3\\lib\\site-packages (from selenium) (1.26.4)\n",
      "Requirement already satisfied: trio-websocket~=0.9 in c:\\users\\ricky riddhi\\anaconda3\\lib\\site-packages (from selenium) (0.9.2)\n",
      "Requirement already satisfied: cffi>=1.14 in c:\\users\\ricky riddhi\\anaconda3\\lib\\site-packages (from trio~=0.17->selenium) (1.14.5)\n",
      "Requirement already satisfied: sniffio in c:\\users\\ricky riddhi\\anaconda3\\lib\\site-packages (from trio~=0.17->selenium) (1.2.0)\n",
      "Requirement already satisfied: async-generator>=1.9 in c:\\users\\ricky riddhi\\anaconda3\\lib\\site-packages (from trio~=0.17->selenium) (1.10)\n",
      "Requirement already satisfied: sortedcontainers in c:\\users\\ricky riddhi\\anaconda3\\lib\\site-packages (from trio~=0.17->selenium) (2.3.0)\n",
      "Requirement already satisfied: attrs>=19.2.0 in c:\\users\\ricky riddhi\\anaconda3\\lib\\site-packages (from trio~=0.17->selenium) (20.3.0)\n",
      "Requirement already satisfied: outcome in c:\\users\\ricky riddhi\\anaconda3\\lib\\site-packages (from trio~=0.17->selenium) (1.1.0)\n",
      "Requirement already satisfied: idna in c:\\users\\ricky riddhi\\anaconda3\\lib\\site-packages (from trio~=0.17->selenium) (2.10)\n",
      "Requirement already satisfied: pycparser in c:\\users\\ricky riddhi\\anaconda3\\lib\\site-packages (from cffi>=1.14->trio~=0.17->selenium) (2.20)\n",
      "Requirement already satisfied: wsproto>=0.14 in c:\\users\\ricky riddhi\\anaconda3\\lib\\site-packages (from trio-websocket~=0.9->selenium) (1.1.0)\n",
      "Requirement already satisfied: PySocks!=1.5.7,<2.0,>=1.5.6 in c:\\users\\ricky riddhi\\anaconda3\\lib\\site-packages (from urllib3[secure,socks]~=1.26->selenium) (1.7.1)\n",
      "Requirement already satisfied: pyOpenSSL>=0.14 in c:\\users\\ricky riddhi\\anaconda3\\lib\\site-packages (from urllib3[secure,socks]~=1.26->selenium) (20.0.1)\n",
      "Requirement already satisfied: certifi in c:\\users\\ricky riddhi\\anaconda3\\lib\\site-packages (from urllib3[secure,socks]~=1.26->selenium) (2020.12.5)\n",
      "Requirement already satisfied: cryptography>=1.3.4 in c:\\users\\ricky riddhi\\anaconda3\\lib\\site-packages (from urllib3[secure,socks]~=1.26->selenium) (3.4.7)\n",
      "Requirement already satisfied: six>=1.5.2 in c:\\users\\ricky riddhi\\anaconda3\\lib\\site-packages (from pyOpenSSL>=0.14->urllib3[secure,socks]~=1.26->selenium) (1.15.0)\n",
      "Requirement already satisfied: h11<1,>=0.9.0 in c:\\users\\ricky riddhi\\anaconda3\\lib\\site-packages (from wsproto>=0.14->trio-websocket~=0.9->selenium) (0.13.0)\n"
     ]
    }
   ],
   "source": [
    "!pip install selenium"
   ]
  },
  {
   "cell_type": "code",
   "execution_count": 48,
   "id": "8a7777f0",
   "metadata": {},
   "outputs": [],
   "source": [
    "#Import all libraries\n",
    "import selenium\n",
    "from selenium import webdriver\n",
    "import pandas as pd\n",
    "import warnings\n",
    "warnings.filterwarnings(\"ignore\")"
   ]
  },
  {
   "cell_type": "code",
   "execution_count": 49,
   "id": "d9529b7b",
   "metadata": {},
   "outputs": [],
   "source": [
    "driver = webdriver.Chrome(r'C:\\Users\\Ricky Riddhi\\Downloads\\chromedriver_win32\\chromedriver.exe')"
   ]
  },
  {
   "cell_type": "code",
   "execution_count": 50,
   "id": "b39acb4c",
   "metadata": {},
   "outputs": [],
   "source": [
    "driver = webdriver.Chrome('chromedriver.exe')"
   ]
  },
  {
   "cell_type": "code",
   "execution_count": 51,
   "id": "dea0136e",
   "metadata": {},
   "outputs": [],
   "source": [
    "#Get webpage Naukri.com\n",
    "url = 'https://www.naukri.com/'\n",
    "driver.get(url)"
   ]
  },
  {
   "cell_type": "code",
   "execution_count": 52,
   "id": "ec5f6f6d",
   "metadata": {},
   "outputs": [
    {
     "data": {
      "text/plain": [
       "<selenium.webdriver.remote.webelement.WebElement (session=\"1b9b07c2f7fb88c472a0ebf921951bbb\", element=\"1ec64d8f-be54-48da-bc79-cd8adcfce91a\")>"
      ]
     },
     "execution_count": 52,
     "metadata": {},
     "output_type": "execute_result"
    }
   ],
   "source": [
    "search_job = driver.find_element_by_class_name(\"suggestor-input\")\n",
    "search_job"
   ]
  },
  {
   "cell_type": "code",
   "execution_count": 53,
   "id": "6fad644a",
   "metadata": {},
   "outputs": [],
   "source": [
    "#Finding web element for search job bar using id for Data Analyst Position\n",
    "search_job.send_keys(\"Data Analyst\")"
   ]
  },
  {
   "cell_type": "code",
   "execution_count": 54,
   "id": "16429629",
   "metadata": {},
   "outputs": [
    {
     "data": {
      "text/plain": [
       "<selenium.webdriver.remote.webelement.WebElement (session=\"1b9b07c2f7fb88c472a0ebf921951bbb\", element=\"a2fbf6dc-2714-47f5-9953-d6b41b3ecc97\")>"
      ]
     },
     "execution_count": 54,
     "metadata": {},
     "output_type": "execute_result"
    }
   ],
   "source": [
    "#find location as Bangalore\n",
    "search_locn = driver.find_element_by_xpath('/html/body/div/div[2]/div[3]/div/div/div[3]/div/div/div/input')\n",
    "search_locn"
   ]
  },
  {
   "cell_type": "code",
   "execution_count": 55,
   "id": "c5c439fb",
   "metadata": {},
   "outputs": [],
   "source": [
    "search_locn.send_keys(\"Bangalore\")"
   ]
  },
  {
   "cell_type": "code",
   "execution_count": 56,
   "id": "6d33ec16",
   "metadata": {},
   "outputs": [
    {
     "data": {
      "text/plain": [
       "<selenium.webdriver.remote.webelement.WebElement (session=\"1b9b07c2f7fb88c472a0ebf921951bbb\", element=\"a3807635-c200-4a9c-8262-99b6fcf798fa\")>"
      ]
     },
     "execution_count": 56,
     "metadata": {},
     "output_type": "execute_result"
    }
   ],
   "source": [
    "submit = driver.find_element_by_class_name(\"qsbSubmit\")\n",
    "submit"
   ]
  },
  {
   "cell_type": "code",
   "execution_count": 57,
   "id": "e4ca4022",
   "metadata": {},
   "outputs": [],
   "source": [
    "submit.click()"
   ]
  },
  {
   "cell_type": "code",
   "execution_count": 58,
   "id": "7b71c4fa",
   "metadata": {},
   "outputs": [
    {
     "data": {
      "text/plain": [
       "[<selenium.webdriver.remote.webelement.WebElement (session=\"1b9b07c2f7fb88c472a0ebf921951bbb\", element=\"3c5e58d6-1937-4a81-9e37-769c9ea987f4\")>,\n",
       " <selenium.webdriver.remote.webelement.WebElement (session=\"1b9b07c2f7fb88c472a0ebf921951bbb\", element=\"34e7b632-0cff-4b1e-ba4e-d455c70dd5b3\")>,\n",
       " <selenium.webdriver.remote.webelement.WebElement (session=\"1b9b07c2f7fb88c472a0ebf921951bbb\", element=\"04f80a2e-249f-46f4-9526-5fc4690d4d5c\")>,\n",
       " <selenium.webdriver.remote.webelement.WebElement (session=\"1b9b07c2f7fb88c472a0ebf921951bbb\", element=\"afa47324-591f-4928-a3b7-a99876c89325\")>,\n",
       " <selenium.webdriver.remote.webelement.WebElement (session=\"1b9b07c2f7fb88c472a0ebf921951bbb\", element=\"9000947c-ae61-428d-ab56-2e0bfc871fc2\")>,\n",
       " <selenium.webdriver.remote.webelement.WebElement (session=\"1b9b07c2f7fb88c472a0ebf921951bbb\", element=\"15c0998c-ceb4-4a37-8b5a-74bc0b86e5bd\")>,\n",
       " <selenium.webdriver.remote.webelement.WebElement (session=\"1b9b07c2f7fb88c472a0ebf921951bbb\", element=\"b6dfe528-0101-4210-9d8a-266f27283039\")>,\n",
       " <selenium.webdriver.remote.webelement.WebElement (session=\"1b9b07c2f7fb88c472a0ebf921951bbb\", element=\"99ba190d-f0ac-48b6-9746-d6354ac0facb\")>,\n",
       " <selenium.webdriver.remote.webelement.WebElement (session=\"1b9b07c2f7fb88c472a0ebf921951bbb\", element=\"03e5603a-30c1-4cd4-aac1-540290c291a6\")>,\n",
       " <selenium.webdriver.remote.webelement.WebElement (session=\"1b9b07c2f7fb88c472a0ebf921951bbb\", element=\"4ba29a3f-e07e-4dfe-b825-61bd094ec4a4\")>]"
      ]
     },
     "execution_count": 58,
     "metadata": {},
     "output_type": "execute_result"
    }
   ],
   "source": [
    "title =  driver.find_elements_by_xpath('//a[@class=\"title fw500 ellipsis\"] ')\n",
    "len(title)\n",
    "title[0:10]"
   ]
  },
  {
   "cell_type": "code",
   "execution_count": 59,
   "id": "69abcd8f",
   "metadata": {},
   "outputs": [
    {
     "data": {
      "text/plain": [
       "['Hiring For Data Analyst I(SQL & Python)',\n",
       " 'Data Analyst - 3rd Party Payroll',\n",
       " 'Data Analyst I',\n",
       " 'Senior Data Analyst II',\n",
       " 'Senior Data Analyst',\n",
       " 'Senior Data Analyst II',\n",
       " 'Senior Data Analyst II',\n",
       " 'Looking For Data Analyst - Remote Support',\n",
       " 'Job openings For Data Analyst - AOA',\n",
       " 'Senior Data Analyst - Ads & Promotion Platform (APP)']"
      ]
     },
     "execution_count": 59,
     "metadata": {},
     "output_type": "execute_result"
    }
   ],
   "source": [
    "job_titles = []\n",
    "\n",
    "for i in title:\n",
    "    job_titles.append(i.text)\n",
    "len(job_titles)\n",
    "job_titles[0:10]"
   ]
  },
  {
   "cell_type": "code",
   "execution_count": 88,
   "id": "0c271fa4",
   "metadata": {},
   "outputs": [
    {
     "data": {
      "text/plain": [
       "20"
      ]
     },
     "execution_count": 88,
     "metadata": {},
     "output_type": "execute_result"
    }
   ],
   "source": [
    "len(job_titles)"
   ]
  },
  {
   "cell_type": "code",
   "execution_count": 63,
   "id": "be82df37",
   "metadata": {},
   "outputs": [
    {
     "data": {
      "text/plain": [
       "[<selenium.webdriver.remote.webelement.WebElement (session=\"1b9b07c2f7fb88c472a0ebf921951bbb\", element=\"37c37988-199d-45e6-b52f-de8a55a99ab4\")>,\n",
       " <selenium.webdriver.remote.webelement.WebElement (session=\"1b9b07c2f7fb88c472a0ebf921951bbb\", element=\"bfb1a2b2-657e-48d6-a1a3-dc49b904c648\")>,\n",
       " <selenium.webdriver.remote.webelement.WebElement (session=\"1b9b07c2f7fb88c472a0ebf921951bbb\", element=\"aef1d0c9-ce3d-4b30-98a0-b70d85e65962\")>,\n",
       " <selenium.webdriver.remote.webelement.WebElement (session=\"1b9b07c2f7fb88c472a0ebf921951bbb\", element=\"fa5564c4-43b7-4c4f-9b18-1862abea64ac\")>,\n",
       " <selenium.webdriver.remote.webelement.WebElement (session=\"1b9b07c2f7fb88c472a0ebf921951bbb\", element=\"ee9c6548-b468-4979-87c3-6335e2902f56\")>,\n",
       " <selenium.webdriver.remote.webelement.WebElement (session=\"1b9b07c2f7fb88c472a0ebf921951bbb\", element=\"65152c50-e332-4df4-9121-b773b9a3f2e5\")>,\n",
       " <selenium.webdriver.remote.webelement.WebElement (session=\"1b9b07c2f7fb88c472a0ebf921951bbb\", element=\"2a886dd5-408c-4c26-9aef-90f5b872d210\")>,\n",
       " <selenium.webdriver.remote.webelement.WebElement (session=\"1b9b07c2f7fb88c472a0ebf921951bbb\", element=\"b8bbfeac-11a6-4616-86a8-f5be80ce9657\")>,\n",
       " <selenium.webdriver.remote.webelement.WebElement (session=\"1b9b07c2f7fb88c472a0ebf921951bbb\", element=\"62040ff7-3d61-4370-a8d5-0a3cee6aff1e\")>,\n",
       " <selenium.webdriver.remote.webelement.WebElement (session=\"1b9b07c2f7fb88c472a0ebf921951bbb\", element=\"839e0230-f9bc-45be-9440-82fe4a7cff5f\")>]"
      ]
     },
     "execution_count": 63,
     "metadata": {},
     "output_type": "execute_result"
    }
   ],
   "source": [
    "company =  driver.find_elements_by_xpath('//div[@class=\"mt-7 companyInfo subheading lh16\"] ')\n",
    "len(company)\n",
    "company[0:10]"
   ]
  },
  {
   "cell_type": "code",
   "execution_count": 89,
   "id": "df84429f",
   "metadata": {},
   "outputs": [
    {
     "data": {
      "text/plain": [
       "['Clario India Pvt Ltd',\n",
       " 'Flipkart\\n4.1\\n(7924 Reviews)',\n",
       " 'Cerner\\n3.9\\n(566 Reviews)',\n",
       " 'Flipkart\\n4.1\\n(7924 Reviews)',\n",
       " 'Flipkart\\n4.1\\n(7924 Reviews)',\n",
       " 'Flipkart\\n4.1\\n(7924 Reviews)',\n",
       " 'Flipkart\\n4.1\\n(7924 Reviews)',\n",
       " 'Locuz Enterprise Solutions Ltd\\n4.0\\n(74 Reviews)',\n",
       " 'izmo ltd\\n3.4\\n(50 Reviews)',\n",
       " 'Gojek\\n4.4\\n(10 Reviews)']"
      ]
     },
     "execution_count": 89,
     "metadata": {},
     "output_type": "execute_result"
    }
   ],
   "source": [
    "company_name = []\n",
    "\n",
    "for i in company:\n",
    "    company_name.append(i.text)\n",
    "len(company_name)\n",
    "company_name[0:10]"
   ]
  },
  {
   "cell_type": "code",
   "execution_count": 143,
   "id": "c405ab86",
   "metadata": {},
   "outputs": [
    {
     "data": {
      "text/plain": [
       "[<selenium.webdriver.remote.webelement.WebElement (session=\"1b9b07c2f7fb88c472a0ebf921951bbb\", element=\"3af3021b-2c1b-4305-a3dc-64e3ee338656\")>,\n",
       " <selenium.webdriver.remote.webelement.WebElement (session=\"1b9b07c2f7fb88c472a0ebf921951bbb\", element=\"bd989af2-0593-4d0c-a456-7182b76c35ea\")>,\n",
       " <selenium.webdriver.remote.webelement.WebElement (session=\"1b9b07c2f7fb88c472a0ebf921951bbb\", element=\"0e9bfa04-6c16-42ae-b50a-828f2d541069\")>,\n",
       " <selenium.webdriver.remote.webelement.WebElement (session=\"1b9b07c2f7fb88c472a0ebf921951bbb\", element=\"a9df957a-6dad-4c44-8729-496c0623647b\")>,\n",
       " <selenium.webdriver.remote.webelement.WebElement (session=\"1b9b07c2f7fb88c472a0ebf921951bbb\", element=\"2a40096e-c7e4-4b0f-997a-493e3cd80c60\")>,\n",
       " <selenium.webdriver.remote.webelement.WebElement (session=\"1b9b07c2f7fb88c472a0ebf921951bbb\", element=\"77a7f1c3-e246-44d6-ac9a-d6f8208f8ee0\")>,\n",
       " <selenium.webdriver.remote.webelement.WebElement (session=\"1b9b07c2f7fb88c472a0ebf921951bbb\", element=\"8b12883c-2038-4c73-b6ea-81b50f6deada\")>,\n",
       " <selenium.webdriver.remote.webelement.WebElement (session=\"1b9b07c2f7fb88c472a0ebf921951bbb\", element=\"8c14dbbd-e1ea-4a95-944e-3008b0f9d51d\")>,\n",
       " <selenium.webdriver.remote.webelement.WebElement (session=\"1b9b07c2f7fb88c472a0ebf921951bbb\", element=\"9f0b996d-6097-42e9-9a1c-edfd01529205\")>,\n",
       " <selenium.webdriver.remote.webelement.WebElement (session=\"1b9b07c2f7fb88c472a0ebf921951bbb\", element=\"866e4425-b78d-4164-ad01-e310ed25fbf0\")>]"
      ]
     },
     "execution_count": 143,
     "metadata": {},
     "output_type": "execute_result"
    }
   ],
   "source": [
    "experience =  driver.find_elements_by_xpath('//li[@class=\"fleft grey-text br2 placeHolderLi experience\"]')\n",
    "experience[0:10]"
   ]
  },
  {
   "cell_type": "code",
   "execution_count": 144,
   "id": "03d1c7cc",
   "metadata": {},
   "outputs": [
    {
     "data": {
      "text/plain": [
       "19"
      ]
     },
     "execution_count": 144,
     "metadata": {},
     "output_type": "execute_result"
    }
   ],
   "source": [
    "len(experience)"
   ]
  },
  {
   "cell_type": "code",
   "execution_count": 114,
   "id": "d4425daa",
   "metadata": {},
   "outputs": [
    {
     "data": {
      "text/plain": [
       "['0-2 Yrs',\n",
       " '2-4 Yrs',\n",
       " '5-10 Yrs',\n",
       " '3-6 Yrs',\n",
       " '3-8 Yrs',\n",
       " '2-4 Yrs',\n",
       " '2-4 Yrs',\n",
       " '5-10 Yrs',\n",
       " '2-3 Yrs',\n",
       " '3-8 Yrs']"
      ]
     },
     "execution_count": 114,
     "metadata": {},
     "output_type": "execute_result"
    }
   ],
   "source": [
    "exp_detail = []\n",
    "\n",
    "for i in experience:\n",
    "    exp_detail.append(i.text)\n",
    "len(exp_detail)\n",
    "exp_detail[0:10]"
   ]
  },
  {
   "cell_type": "code",
   "execution_count": 145,
   "id": "b6cba584",
   "metadata": {},
   "outputs": [
    {
     "data": {
      "text/plain": [
       "[<selenium.webdriver.remote.webelement.WebElement (session=\"1b9b07c2f7fb88c472a0ebf921951bbb\", element=\"bf0a83b3-e752-42a3-beb9-aeec2488f744\")>,\n",
       " <selenium.webdriver.remote.webelement.WebElement (session=\"1b9b07c2f7fb88c472a0ebf921951bbb\", element=\"b29081a0-3ab2-4c50-8d7e-0074ad33d892\")>,\n",
       " <selenium.webdriver.remote.webelement.WebElement (session=\"1b9b07c2f7fb88c472a0ebf921951bbb\", element=\"0173f4f0-2ddc-4539-9685-095d5bbd8531\")>,\n",
       " <selenium.webdriver.remote.webelement.WebElement (session=\"1b9b07c2f7fb88c472a0ebf921951bbb\", element=\"afd7cbfe-105a-42d1-b3b4-0d85e95493fb\")>,\n",
       " <selenium.webdriver.remote.webelement.WebElement (session=\"1b9b07c2f7fb88c472a0ebf921951bbb\", element=\"da959149-523a-47a5-90f4-6a5f3a030db4\")>,\n",
       " <selenium.webdriver.remote.webelement.WebElement (session=\"1b9b07c2f7fb88c472a0ebf921951bbb\", element=\"2aef07a4-4811-40d8-9326-a3a4c7976619\")>,\n",
       " <selenium.webdriver.remote.webelement.WebElement (session=\"1b9b07c2f7fb88c472a0ebf921951bbb\", element=\"ffd75f17-e806-484a-9507-dbb516ae6498\")>,\n",
       " <selenium.webdriver.remote.webelement.WebElement (session=\"1b9b07c2f7fb88c472a0ebf921951bbb\", element=\"d70a1752-a5a0-44bd-bf57-4a0015774863\")>,\n",
       " <selenium.webdriver.remote.webelement.WebElement (session=\"1b9b07c2f7fb88c472a0ebf921951bbb\", element=\"483e63ab-a249-4d59-82c8-030ab0b98add\")>,\n",
       " <selenium.webdriver.remote.webelement.WebElement (session=\"1b9b07c2f7fb88c472a0ebf921951bbb\", element=\"ca7ee0a2-7ff6-4f9d-bd5d-2318c512057a\")>]"
      ]
     },
     "execution_count": 145,
     "metadata": {},
     "output_type": "execute_result"
    }
   ],
   "source": [
    "location =  driver.find_elements_by_xpath('//li[@class=\"fleft grey-text br2 placeHolderLi location\"]')\n",
    "len(location)\n",
    "location[0:10]"
   ]
  },
  {
   "cell_type": "code",
   "execution_count": 146,
   "id": "e771a5a0",
   "metadata": {},
   "outputs": [
    {
     "data": {
      "text/plain": [
       "['Bangalore/Bengaluru',\n",
       " 'Bangalore/Bengaluru',\n",
       " 'Bangalore/Bengaluru',\n",
       " 'Bangalore/Bengaluru',\n",
       " 'Bangalore/Bengaluru',\n",
       " 'Bangalore/Bengaluru',\n",
       " 'Bangalore/Bengaluru',\n",
       " 'Hyderabad/Secunderabad, Chennai, Bangalore/Bengaluru',\n",
       " 'Bangalore/Bengaluru(4th Phase JP Nagar)',\n",
       " 'Bangalore/Bengaluru']"
      ]
     },
     "execution_count": 146,
     "metadata": {},
     "output_type": "execute_result"
    }
   ],
   "source": [
    "loc_detail = []\n",
    "\n",
    "for i in location:\n",
    "    loc_detail.append(i.text)\n",
    "len(loc_detail)\n",
    "loc_detail[0:10]"
   ]
  },
  {
   "cell_type": "code",
   "execution_count": 117,
   "id": "e15f34cc",
   "metadata": {},
   "outputs": [
    {
     "data": {
      "text/plain": [
       "20"
      ]
     },
     "execution_count": 117,
     "metadata": {},
     "output_type": "execute_result"
    }
   ],
   "source": [
    "len(loc_detail)"
   ]
  },
  {
   "cell_type": "code",
   "execution_count": 98,
   "id": "2882a7df",
   "metadata": {},
   "outputs": [],
   "source": [
    "import numpy as np\n"
   ]
  },
  {
   "cell_type": "code",
   "execution_count": 316,
   "id": "e7b3f71c",
   "metadata": {},
   "outputs": [
    {
     "ename": "ValueError",
     "evalue": "Length of values (19) does not match length of index (20)",
     "output_type": "error",
     "traceback": [
      "\u001b[1;31m---------------------------------------------------------------------------\u001b[0m",
      "\u001b[1;31mValueError\u001b[0m                                Traceback (most recent call last)",
      "\u001b[1;32m<ipython-input-316-12e2a0bcd11f>\u001b[0m in \u001b[0;36m<module>\u001b[1;34m\u001b[0m\n\u001b[0;32m      3\u001b[0m \u001b[0mjobs\u001b[0m\u001b[1;33m[\u001b[0m\u001b[1;34m'Job Title'\u001b[0m\u001b[1;33m]\u001b[0m \u001b[1;33m=\u001b[0m \u001b[0mjob_titles\u001b[0m\u001b[1;33m\u001b[0m\u001b[1;33m\u001b[0m\u001b[0m\n\u001b[0;32m      4\u001b[0m \u001b[0mjobs\u001b[0m\u001b[1;33m[\u001b[0m\u001b[1;34m'Company'\u001b[0m\u001b[1;33m]\u001b[0m \u001b[1;33m=\u001b[0m \u001b[0mcompany_name\u001b[0m\u001b[1;33m\u001b[0m\u001b[1;33m\u001b[0m\u001b[0m\n\u001b[1;32m----> 5\u001b[1;33m \u001b[0mjobs\u001b[0m\u001b[1;33m[\u001b[0m\u001b[1;34m'Experience'\u001b[0m\u001b[1;33m]\u001b[0m \u001b[1;33m=\u001b[0m\u001b[0mexp_detail\u001b[0m\u001b[1;33m\u001b[0m\u001b[1;33m\u001b[0m\u001b[0m\n\u001b[0m\u001b[0;32m      6\u001b[0m \u001b[0mjobs\u001b[0m\u001b[1;33m[\u001b[0m\u001b[1;34m'Location'\u001b[0m\u001b[1;33m]\u001b[0m \u001b[1;33m=\u001b[0m \u001b[0mloc_detail\u001b[0m\u001b[1;33m\u001b[0m\u001b[1;33m\u001b[0m\u001b[0m\n\u001b[0;32m      7\u001b[0m \u001b[0mjobs\u001b[0m\u001b[1;33m.\u001b[0m\u001b[0mset_index\u001b[0m\u001b[1;33m(\u001b[0m\u001b[1;34m'Job Title'\u001b[0m\u001b[1;33m,\u001b[0m\u001b[0minplace\u001b[0m\u001b[1;33m=\u001b[0m\u001b[1;32mTrue\u001b[0m\u001b[1;33m)\u001b[0m\u001b[1;33m\u001b[0m\u001b[1;33m\u001b[0m\u001b[0m\n",
      "\u001b[1;32m~\\anaconda3\\lib\\site-packages\\pandas\\core\\frame.py\u001b[0m in \u001b[0;36m__setitem__\u001b[1;34m(self, key, value)\u001b[0m\n\u001b[0;32m   3161\u001b[0m         \u001b[1;32melse\u001b[0m\u001b[1;33m:\u001b[0m\u001b[1;33m\u001b[0m\u001b[1;33m\u001b[0m\u001b[0m\n\u001b[0;32m   3162\u001b[0m             \u001b[1;31m# set column\u001b[0m\u001b[1;33m\u001b[0m\u001b[1;33m\u001b[0m\u001b[1;33m\u001b[0m\u001b[0m\n\u001b[1;32m-> 3163\u001b[1;33m             \u001b[0mself\u001b[0m\u001b[1;33m.\u001b[0m\u001b[0m_set_item\u001b[0m\u001b[1;33m(\u001b[0m\u001b[0mkey\u001b[0m\u001b[1;33m,\u001b[0m \u001b[0mvalue\u001b[0m\u001b[1;33m)\u001b[0m\u001b[1;33m\u001b[0m\u001b[1;33m\u001b[0m\u001b[0m\n\u001b[0m\u001b[0;32m   3164\u001b[0m \u001b[1;33m\u001b[0m\u001b[0m\n\u001b[0;32m   3165\u001b[0m     \u001b[1;32mdef\u001b[0m \u001b[0m_setitem_slice\u001b[0m\u001b[1;33m(\u001b[0m\u001b[0mself\u001b[0m\u001b[1;33m,\u001b[0m \u001b[0mkey\u001b[0m\u001b[1;33m:\u001b[0m \u001b[0mslice\u001b[0m\u001b[1;33m,\u001b[0m \u001b[0mvalue\u001b[0m\u001b[1;33m)\u001b[0m\u001b[1;33m:\u001b[0m\u001b[1;33m\u001b[0m\u001b[1;33m\u001b[0m\u001b[0m\n",
      "\u001b[1;32m~\\anaconda3\\lib\\site-packages\\pandas\\core\\frame.py\u001b[0m in \u001b[0;36m_set_item\u001b[1;34m(self, key, value)\u001b[0m\n\u001b[0;32m   3240\u001b[0m         \"\"\"\n\u001b[0;32m   3241\u001b[0m         \u001b[0mself\u001b[0m\u001b[1;33m.\u001b[0m\u001b[0m_ensure_valid_index\u001b[0m\u001b[1;33m(\u001b[0m\u001b[0mvalue\u001b[0m\u001b[1;33m)\u001b[0m\u001b[1;33m\u001b[0m\u001b[1;33m\u001b[0m\u001b[0m\n\u001b[1;32m-> 3242\u001b[1;33m         \u001b[0mvalue\u001b[0m \u001b[1;33m=\u001b[0m \u001b[0mself\u001b[0m\u001b[1;33m.\u001b[0m\u001b[0m_sanitize_column\u001b[0m\u001b[1;33m(\u001b[0m\u001b[0mkey\u001b[0m\u001b[1;33m,\u001b[0m \u001b[0mvalue\u001b[0m\u001b[1;33m)\u001b[0m\u001b[1;33m\u001b[0m\u001b[1;33m\u001b[0m\u001b[0m\n\u001b[0m\u001b[0;32m   3243\u001b[0m         \u001b[0mNDFrame\u001b[0m\u001b[1;33m.\u001b[0m\u001b[0m_set_item\u001b[0m\u001b[1;33m(\u001b[0m\u001b[0mself\u001b[0m\u001b[1;33m,\u001b[0m \u001b[0mkey\u001b[0m\u001b[1;33m,\u001b[0m \u001b[0mvalue\u001b[0m\u001b[1;33m)\u001b[0m\u001b[1;33m\u001b[0m\u001b[1;33m\u001b[0m\u001b[0m\n\u001b[0;32m   3244\u001b[0m \u001b[1;33m\u001b[0m\u001b[0m\n",
      "\u001b[1;32m~\\anaconda3\\lib\\site-packages\\pandas\\core\\frame.py\u001b[0m in \u001b[0;36m_sanitize_column\u001b[1;34m(self, key, value, broadcast)\u001b[0m\n\u001b[0;32m   3897\u001b[0m \u001b[1;33m\u001b[0m\u001b[0m\n\u001b[0;32m   3898\u001b[0m             \u001b[1;31m# turn me into an ndarray\u001b[0m\u001b[1;33m\u001b[0m\u001b[1;33m\u001b[0m\u001b[1;33m\u001b[0m\u001b[0m\n\u001b[1;32m-> 3899\u001b[1;33m             \u001b[0mvalue\u001b[0m \u001b[1;33m=\u001b[0m \u001b[0msanitize_index\u001b[0m\u001b[1;33m(\u001b[0m\u001b[0mvalue\u001b[0m\u001b[1;33m,\u001b[0m \u001b[0mself\u001b[0m\u001b[1;33m.\u001b[0m\u001b[0mindex\u001b[0m\u001b[1;33m)\u001b[0m\u001b[1;33m\u001b[0m\u001b[1;33m\u001b[0m\u001b[0m\n\u001b[0m\u001b[0;32m   3900\u001b[0m             \u001b[1;32mif\u001b[0m \u001b[1;32mnot\u001b[0m \u001b[0misinstance\u001b[0m\u001b[1;33m(\u001b[0m\u001b[0mvalue\u001b[0m\u001b[1;33m,\u001b[0m \u001b[1;33m(\u001b[0m\u001b[0mnp\u001b[0m\u001b[1;33m.\u001b[0m\u001b[0mndarray\u001b[0m\u001b[1;33m,\u001b[0m \u001b[0mIndex\u001b[0m\u001b[1;33m)\u001b[0m\u001b[1;33m)\u001b[0m\u001b[1;33m:\u001b[0m\u001b[1;33m\u001b[0m\u001b[1;33m\u001b[0m\u001b[0m\n\u001b[0;32m   3901\u001b[0m                 \u001b[1;32mif\u001b[0m \u001b[0misinstance\u001b[0m\u001b[1;33m(\u001b[0m\u001b[0mvalue\u001b[0m\u001b[1;33m,\u001b[0m \u001b[0mlist\u001b[0m\u001b[1;33m)\u001b[0m \u001b[1;32mand\u001b[0m \u001b[0mlen\u001b[0m\u001b[1;33m(\u001b[0m\u001b[0mvalue\u001b[0m\u001b[1;33m)\u001b[0m \u001b[1;33m>\u001b[0m \u001b[1;36m0\u001b[0m\u001b[1;33m:\u001b[0m\u001b[1;33m\u001b[0m\u001b[1;33m\u001b[0m\u001b[0m\n",
      "\u001b[1;32m~\\anaconda3\\lib\\site-packages\\pandas\\core\\internals\\construction.py\u001b[0m in \u001b[0;36msanitize_index\u001b[1;34m(data, index)\u001b[0m\n\u001b[0;32m    749\u001b[0m     \"\"\"\n\u001b[0;32m    750\u001b[0m     \u001b[1;32mif\u001b[0m \u001b[0mlen\u001b[0m\u001b[1;33m(\u001b[0m\u001b[0mdata\u001b[0m\u001b[1;33m)\u001b[0m \u001b[1;33m!=\u001b[0m \u001b[0mlen\u001b[0m\u001b[1;33m(\u001b[0m\u001b[0mindex\u001b[0m\u001b[1;33m)\u001b[0m\u001b[1;33m:\u001b[0m\u001b[1;33m\u001b[0m\u001b[1;33m\u001b[0m\u001b[0m\n\u001b[1;32m--> 751\u001b[1;33m         raise ValueError(\n\u001b[0m\u001b[0;32m    752\u001b[0m             \u001b[1;34m\"Length of values \"\u001b[0m\u001b[1;33m\u001b[0m\u001b[1;33m\u001b[0m\u001b[0m\n\u001b[0;32m    753\u001b[0m             \u001b[1;34mf\"({len(data)}) \"\u001b[0m\u001b[1;33m\u001b[0m\u001b[1;33m\u001b[0m\u001b[0m\n",
      "\u001b[1;31mValueError\u001b[0m: Length of values (19) does not match length of index (20)"
     ]
    }
   ],
   "source": [
    "#job list\n",
    "jobs=pd.DataFrame()\n",
    "jobs['Job Title'] = job_titles\n",
    "jobs['Company'] = company_name\n",
    "jobs['Experience'] =exp_detail\n",
    "jobs['Location'] = loc_detail\n",
    "jobs.set_index('Job Title',inplace=True)\n",
    "jobs[0:10]"
   ]
  },
  {
   "cell_type": "code",
   "execution_count": 142,
   "id": "a675b2cc",
   "metadata": {},
   "outputs": [],
   "source": [
    "#Question 2- scrape data for Data Scientist position in Bangalore"
   ]
  },
  {
   "cell_type": "code",
   "execution_count": 5,
   "id": "718431fe",
   "metadata": {},
   "outputs": [],
   "source": [
    "#Import all libraries\n",
    "import selenium\n",
    "from selenium import webdriver\n",
    "import pandas as pd\n",
    "import warnings\n",
    "warnings.filterwarnings(\"ignore\")"
   ]
  },
  {
   "cell_type": "code",
   "execution_count": 6,
   "id": "d0fc8dfb",
   "metadata": {},
   "outputs": [],
   "source": [
    "driver = webdriver.Chrome(r'C:\\Users\\Ricky Riddhi\\Downloads\\chromedriver_win32\\chromedriver.exe')"
   ]
  },
  {
   "cell_type": "code",
   "execution_count": 151,
   "id": "1563710d",
   "metadata": {},
   "outputs": [],
   "source": [
    "#Get webpage Naukri.com\n",
    "url = 'https://www.naukri.com/'\n",
    "driver.get(url)"
   ]
  },
  {
   "cell_type": "code",
   "execution_count": 152,
   "id": "3ea559fb",
   "metadata": {},
   "outputs": [
    {
     "data": {
      "text/plain": [
       "<selenium.webdriver.remote.webelement.WebElement (session=\"1b9b07c2f7fb88c472a0ebf921951bbb\", element=\"8707121c-0f5e-4def-8dc6-8d7f34f2f02e\")>"
      ]
     },
     "execution_count": 152,
     "metadata": {},
     "output_type": "execute_result"
    }
   ],
   "source": [
    "search_job = driver.find_element_by_class_name(\"suggestor-input\")\n",
    "search_job"
   ]
  },
  {
   "cell_type": "code",
   "execution_count": 153,
   "id": "952159b4",
   "metadata": {},
   "outputs": [],
   "source": [
    "#Finding web element for search job bar using id for Data Analyst Position\n",
    "search_job.send_keys(\"Data Scientist\")"
   ]
  },
  {
   "cell_type": "code",
   "execution_count": 154,
   "id": "ed91b49b",
   "metadata": {},
   "outputs": [
    {
     "data": {
      "text/plain": [
       "<selenium.webdriver.remote.webelement.WebElement (session=\"1b9b07c2f7fb88c472a0ebf921951bbb\", element=\"ff1ab85e-9471-4412-800b-4edb342c74b3\")>"
      ]
     },
     "execution_count": 154,
     "metadata": {},
     "output_type": "execute_result"
    }
   ],
   "source": [
    "#find location as Bangalore\n",
    "search_location = driver.find_element_by_xpath('/html/body/div/div[2]/div[3]/div/div/div[3]/div/div/div/input')\n",
    "search_location"
   ]
  },
  {
   "cell_type": "code",
   "execution_count": 155,
   "id": "d596b13b",
   "metadata": {},
   "outputs": [],
   "source": [
    "search_location.send_keys(\"Bangalore\")"
   ]
  },
  {
   "cell_type": "code",
   "execution_count": 156,
   "id": "31d1e9d0",
   "metadata": {},
   "outputs": [
    {
     "data": {
      "text/plain": [
       "<selenium.webdriver.remote.webelement.WebElement (session=\"1b9b07c2f7fb88c472a0ebf921951bbb\", element=\"747abcdb-037d-4de5-b9a2-8a9ce5e471a8\")>"
      ]
     },
     "execution_count": 156,
     "metadata": {},
     "output_type": "execute_result"
    }
   ],
   "source": [
    "submit = driver.find_element_by_class_name(\"qsbSubmit\")\n",
    "submit"
   ]
  },
  {
   "cell_type": "code",
   "execution_count": 157,
   "id": "6b29e973",
   "metadata": {},
   "outputs": [],
   "source": [
    "submit.click()"
   ]
  },
  {
   "cell_type": "code",
   "execution_count": 19,
   "id": "6f13fd8c",
   "metadata": {},
   "outputs": [
    {
     "data": {
      "text/plain": [
       "[<selenium.webdriver.remote.webelement.WebElement (session=\"ec6bec6dea330a80df88cd9ca4855187\", element=\"7a658f3f-2fbe-4465-bdeb-682007f56418\")>,\n",
       " <selenium.webdriver.remote.webelement.WebElement (session=\"ec6bec6dea330a80df88cd9ca4855187\", element=\"50d7ab20-67ea-4303-9bf8-827d8b05b165\")>,\n",
       " <selenium.webdriver.remote.webelement.WebElement (session=\"ec6bec6dea330a80df88cd9ca4855187\", element=\"4364aeee-f9cf-4cc7-bfc8-abd1155eaeae\")>,\n",
       " <selenium.webdriver.remote.webelement.WebElement (session=\"ec6bec6dea330a80df88cd9ca4855187\", element=\"7dc43c2b-40e8-4a7f-9d6a-ac67f39cd296\")>,\n",
       " <selenium.webdriver.remote.webelement.WebElement (session=\"ec6bec6dea330a80df88cd9ca4855187\", element=\"f02f1f8f-84a0-46c3-bd43-c12ef06f4a34\")>,\n",
       " <selenium.webdriver.remote.webelement.WebElement (session=\"ec6bec6dea330a80df88cd9ca4855187\", element=\"d872f7ce-ca79-4344-8864-4e9b784bb4f3\")>,\n",
       " <selenium.webdriver.remote.webelement.WebElement (session=\"ec6bec6dea330a80df88cd9ca4855187\", element=\"2a8f012d-39a2-4be2-a450-5c61cd81290b\")>,\n",
       " <selenium.webdriver.remote.webelement.WebElement (session=\"ec6bec6dea330a80df88cd9ca4855187\", element=\"cc75d27f-a462-46b4-a3a5-4a173ac1f914\")>,\n",
       " <selenium.webdriver.remote.webelement.WebElement (session=\"ec6bec6dea330a80df88cd9ca4855187\", element=\"21b69021-6399-4723-9b35-2a52e2ac0c22\")>,\n",
       " <selenium.webdriver.remote.webelement.WebElement (session=\"ec6bec6dea330a80df88cd9ca4855187\", element=\"e283adf7-b0a3-429d-9d6e-ad8796b932dd\")>]"
      ]
     },
     "execution_count": 19,
     "metadata": {},
     "output_type": "execute_result"
    }
   ],
   "source": [
    "title_nm =  driver.find_elements_by_xpath('//a[@class=\"title fw500 ellipsis\"]')\n",
    "len(title_nm)\n",
    "title_nm[0:10]"
   ]
  },
  {
   "cell_type": "code",
   "execution_count": 158,
   "id": "93f59e78",
   "metadata": {},
   "outputs": [
    {
     "data": {
      "text/plain": [
       "['Data Scientist III',\n",
       " 'Sr Data Scientist',\n",
       " 'Data Scientist/Senior Data Scientist - Python',\n",
       " 'HCL Tech Opening - Lead Data Scientist',\n",
       " 'Sr . Data Scientist',\n",
       " 'Need Data scientists and data engineers - WFH- less than 30days notice',\n",
       " 'Principal Data Scientist',\n",
       " 'Data Scientist',\n",
       " 'Data Scientist',\n",
       " 'Data Scientist']"
      ]
     },
     "execution_count": 158,
     "metadata": {},
     "output_type": "execute_result"
    }
   ],
   "source": [
    "jobtitle = []\n",
    "\n",
    "for i in title_nm:\n",
    "    jobtitle.append(i.text)\n",
    "len(jobtitle)\n",
    "jobtitle[0:10]"
   ]
  },
  {
   "cell_type": "code",
   "execution_count": 159,
   "id": "a7a77064",
   "metadata": {},
   "outputs": [
    {
     "data": {
      "text/plain": [
       "[<selenium.webdriver.remote.webelement.WebElement (session=\"1b9b07c2f7fb88c472a0ebf921951bbb\", element=\"b2ca83c7-2cf2-4e6c-bb38-06c06e8c765f\")>,\n",
       " <selenium.webdriver.remote.webelement.WebElement (session=\"1b9b07c2f7fb88c472a0ebf921951bbb\", element=\"47c74e95-717b-4cc7-9aca-4d3da38cb7ab\")>,\n",
       " <selenium.webdriver.remote.webelement.WebElement (session=\"1b9b07c2f7fb88c472a0ebf921951bbb\", element=\"c9bc6131-5571-41da-a49c-2dc04cdcdbcb\")>,\n",
       " <selenium.webdriver.remote.webelement.WebElement (session=\"1b9b07c2f7fb88c472a0ebf921951bbb\", element=\"54c0fef7-84e1-43b0-80a1-e61e4236f2e2\")>,\n",
       " <selenium.webdriver.remote.webelement.WebElement (session=\"1b9b07c2f7fb88c472a0ebf921951bbb\", element=\"72fdf4f3-21c0-4e1c-8e16-fcf8251460e9\")>,\n",
       " <selenium.webdriver.remote.webelement.WebElement (session=\"1b9b07c2f7fb88c472a0ebf921951bbb\", element=\"9060d335-4af0-40ef-90cf-cc757bef1fdd\")>,\n",
       " <selenium.webdriver.remote.webelement.WebElement (session=\"1b9b07c2f7fb88c472a0ebf921951bbb\", element=\"fecba8f5-f780-4330-a0f6-780815d39371\")>,\n",
       " <selenium.webdriver.remote.webelement.WebElement (session=\"1b9b07c2f7fb88c472a0ebf921951bbb\", element=\"fd21c6bb-fe1a-41cc-9a60-e999251b8353\")>,\n",
       " <selenium.webdriver.remote.webelement.WebElement (session=\"1b9b07c2f7fb88c472a0ebf921951bbb\", element=\"8c938fb9-65f5-4382-9124-cb45cce6ec76\")>,\n",
       " <selenium.webdriver.remote.webelement.WebElement (session=\"1b9b07c2f7fb88c472a0ebf921951bbb\", element=\"68ffb133-e6d3-4c94-ab13-0279e096808b\")>]"
      ]
     },
     "execution_count": 159,
     "metadata": {},
     "output_type": "execute_result"
    }
   ],
   "source": [
    "company_nm =  driver.find_elements_by_xpath('//a[@class=\"subTitle ellipsis fleft\"]')\n",
    "len(company_nm)\n",
    "company_nm[0:10]\n"
   ]
  },
  {
   "cell_type": "code",
   "execution_count": 160,
   "id": "43beb266",
   "metadata": {},
   "outputs": [
    {
     "data": {
      "text/plain": [
       "['Groupon',\n",
       " 'Uber',\n",
       " 'ApicalGo Consultancy',\n",
       " 'HCL',\n",
       " 'Visa',\n",
       " 'Covalense Technologies Private Limited',\n",
       " 'EVOLVE TECHNOLOGIES AND SERVICES PRIVATE LIMITED',\n",
       " 'Mobile Premier League',\n",
       " 'Shell',\n",
       " 'HDFC Bank']"
      ]
     },
     "execution_count": 160,
     "metadata": {},
     "output_type": "execute_result"
    }
   ],
   "source": [
    "companydetail = []\n",
    "\n",
    "for i in company_nm:\n",
    "    companydetail.append(i.text)\n",
    "len(companydetail)\n",
    "companydetail[0:10]"
   ]
  },
  {
   "cell_type": "code",
   "execution_count": 26,
   "id": "7b0bb8bd",
   "metadata": {},
   "outputs": [
    {
     "data": {
      "text/plain": [
       "[<selenium.webdriver.remote.webelement.WebElement (session=\"ec6bec6dea330a80df88cd9ca4855187\", element=\"6866836d-1ecf-445c-ab13-9c895df5b6ee\")>,\n",
       " <selenium.webdriver.remote.webelement.WebElement (session=\"ec6bec6dea330a80df88cd9ca4855187\", element=\"3337369c-38b1-4af4-87d4-8fa89a7ef54d\")>,\n",
       " <selenium.webdriver.remote.webelement.WebElement (session=\"ec6bec6dea330a80df88cd9ca4855187\", element=\"0d101615-c02f-494e-8c3a-77aace005ef9\")>,\n",
       " <selenium.webdriver.remote.webelement.WebElement (session=\"ec6bec6dea330a80df88cd9ca4855187\", element=\"7f5db6b9-ee14-430e-8cdc-ef44dd6d327f\")>,\n",
       " <selenium.webdriver.remote.webelement.WebElement (session=\"ec6bec6dea330a80df88cd9ca4855187\", element=\"1b5737d4-33d4-4286-8ef2-7b6732235db8\")>,\n",
       " <selenium.webdriver.remote.webelement.WebElement (session=\"ec6bec6dea330a80df88cd9ca4855187\", element=\"d9ec556b-e723-40cb-b80f-06d021484f3b\")>,\n",
       " <selenium.webdriver.remote.webelement.WebElement (session=\"ec6bec6dea330a80df88cd9ca4855187\", element=\"d04046ff-497e-4874-b13e-259ba7dc397f\")>,\n",
       " <selenium.webdriver.remote.webelement.WebElement (session=\"ec6bec6dea330a80df88cd9ca4855187\", element=\"3571324e-4d58-460a-8834-cbdc6940c063\")>,\n",
       " <selenium.webdriver.remote.webelement.WebElement (session=\"ec6bec6dea330a80df88cd9ca4855187\", element=\"892f2a37-7312-46fc-9080-be092170560c\")>,\n",
       " <selenium.webdriver.remote.webelement.WebElement (session=\"ec6bec6dea330a80df88cd9ca4855187\", element=\"704fb6dd-e52b-40fe-9881-f81322b21845\")>]"
      ]
     },
     "execution_count": 26,
     "metadata": {},
     "output_type": "execute_result"
    }
   ],
   "source": [
    "exp_det =  driver.find_elements_by_xpath('//li[@class=\"fleft grey-text br2 placeHolderLi experience\"]')\n",
    "exp_det[0:10]"
   ]
  },
  {
   "cell_type": "code",
   "execution_count": 161,
   "id": "cbc1c36f",
   "metadata": {},
   "outputs": [
    {
     "data": {
      "text/plain": [
       "['6-11 Yrs',\n",
       " '6-12 Yrs',\n",
       " '3-8 Yrs',\n",
       " '10-20 Yrs',\n",
       " '6-8 Yrs',\n",
       " '8-13 Yrs',\n",
       " '8-12 Yrs',\n",
       " '4-9 Yrs',\n",
       " '1-6 Yrs',\n",
       " '5-10 Yrs']"
      ]
     },
     "execution_count": 161,
     "metadata": {},
     "output_type": "execute_result"
    }
   ],
   "source": [
    "expdetail = []\n",
    "\n",
    "for i in exp_det:\n",
    "    expdetail.append(i.text)\n",
    "len(expdetail)\n",
    "expdetail[0:10]"
   ]
  },
  {
   "cell_type": "code",
   "execution_count": 31,
   "id": "fc55f6b3",
   "metadata": {},
   "outputs": [
    {
     "data": {
      "text/plain": [
       "[<selenium.webdriver.remote.webelement.WebElement (session=\"ec6bec6dea330a80df88cd9ca4855187\", element=\"151b0e59-e336-44d9-9b53-7c5ff312dc1b\")>,\n",
       " <selenium.webdriver.remote.webelement.WebElement (session=\"ec6bec6dea330a80df88cd9ca4855187\", element=\"05627ed5-2073-4b56-ab08-a0dd168b526a\")>,\n",
       " <selenium.webdriver.remote.webelement.WebElement (session=\"ec6bec6dea330a80df88cd9ca4855187\", element=\"57a1ec75-6c23-4f42-bd68-2504cca71b0c\")>,\n",
       " <selenium.webdriver.remote.webelement.WebElement (session=\"ec6bec6dea330a80df88cd9ca4855187\", element=\"17891564-93cf-4f5a-ab50-b7a51234a9cf\")>,\n",
       " <selenium.webdriver.remote.webelement.WebElement (session=\"ec6bec6dea330a80df88cd9ca4855187\", element=\"63f3e95a-2469-41be-a662-68036b38aad4\")>,\n",
       " <selenium.webdriver.remote.webelement.WebElement (session=\"ec6bec6dea330a80df88cd9ca4855187\", element=\"e7449e6c-8510-4e39-9bd5-a9515bfa01e3\")>,\n",
       " <selenium.webdriver.remote.webelement.WebElement (session=\"ec6bec6dea330a80df88cd9ca4855187\", element=\"993acedc-ceb2-4342-8229-ba17422009ba\")>,\n",
       " <selenium.webdriver.remote.webelement.WebElement (session=\"ec6bec6dea330a80df88cd9ca4855187\", element=\"7d1d2262-c972-4d33-b58d-c9ab68c83efb\")>,\n",
       " <selenium.webdriver.remote.webelement.WebElement (session=\"ec6bec6dea330a80df88cd9ca4855187\", element=\"8b806359-e764-433b-b60b-ed9d34e402c0\")>,\n",
       " <selenium.webdriver.remote.webelement.WebElement (session=\"ec6bec6dea330a80df88cd9ca4855187\", element=\"daf2a690-d79e-47a7-8dc9-93fedd6dfb9c\")>]"
      ]
     },
     "execution_count": 31,
     "metadata": {},
     "output_type": "execute_result"
    }
   ],
   "source": [
    "loc_dt = driver.find_elements_by_xpath('//li[@class=\"fleft grey-text br2 placeHolderLi location\"]')\n",
    "loc_dt[0:10]          \n"
   ]
  },
  {
   "cell_type": "code",
   "execution_count": 162,
   "id": "a7e4acb6",
   "metadata": {},
   "outputs": [
    {
     "data": {
      "text/plain": [
       "['Bangalore/Bengaluru',\n",
       " 'Bangalore/Bengaluru',\n",
       " 'Bangalore/Bengaluru',\n",
       " 'Kolkata, Hyderabad/Secunderabad, Pune, Chennai, Bangalore/Bengaluru, Delhi / NCR',\n",
       " 'Bangalore/Bengaluru',\n",
       " 'Hyderabad/Secunderabad, Bangalore/Bengaluru, Mumbai (All Areas)\\n(WFH during Covid)',\n",
       " 'Bangalore/Bengaluru',\n",
       " 'Bangalore/Bengaluru',\n",
       " 'Pune, Gurgaon/Gurugram, Chennai, Bangalore/Bengaluru, Delhi / NCR, Mumbai (All Areas)',\n",
       " 'Bangalore/Bengaluru']"
      ]
     },
     "execution_count": 162,
     "metadata": {},
     "output_type": "execute_result"
    }
   ],
   "source": [
    "locdetail = []\n",
    "\n",
    "for i in loc_dt:\n",
    "    locdetail.append(i.text)\n",
    "len(locdetail)\n",
    "locdetail[0:10]"
   ]
  },
  {
   "cell_type": "code",
   "execution_count": 317,
   "id": "8ef5e5bc",
   "metadata": {},
   "outputs": [
    {
     "data": {
      "text/html": [
       "<div>\n",
       "<style scoped>\n",
       "    .dataframe tbody tr th:only-of-type {\n",
       "        vertical-align: middle;\n",
       "    }\n",
       "\n",
       "    .dataframe tbody tr th {\n",
       "        vertical-align: top;\n",
       "    }\n",
       "\n",
       "    .dataframe thead th {\n",
       "        text-align: right;\n",
       "    }\n",
       "</style>\n",
       "<table border=\"1\" class=\"dataframe\">\n",
       "  <thead>\n",
       "    <tr style=\"text-align: right;\">\n",
       "      <th></th>\n",
       "      <th>Company</th>\n",
       "      <th>Experience</th>\n",
       "      <th>Location</th>\n",
       "    </tr>\n",
       "    <tr>\n",
       "      <th>Job Title</th>\n",
       "      <th></th>\n",
       "      <th></th>\n",
       "      <th></th>\n",
       "    </tr>\n",
       "  </thead>\n",
       "  <tbody>\n",
       "    <tr>\n",
       "      <th>Data Scientist III</th>\n",
       "      <td>Groupon</td>\n",
       "      <td>6-11 Yrs</td>\n",
       "      <td>Bangalore/Bengaluru</td>\n",
       "    </tr>\n",
       "    <tr>\n",
       "      <th>Sr Data Scientist</th>\n",
       "      <td>Uber</td>\n",
       "      <td>6-12 Yrs</td>\n",
       "      <td>Bangalore/Bengaluru</td>\n",
       "    </tr>\n",
       "    <tr>\n",
       "      <th>Data Scientist/Senior Data Scientist - Python</th>\n",
       "      <td>ApicalGo Consultancy</td>\n",
       "      <td>3-8 Yrs</td>\n",
       "      <td>Bangalore/Bengaluru</td>\n",
       "    </tr>\n",
       "    <tr>\n",
       "      <th>HCL Tech Opening - Lead Data Scientist</th>\n",
       "      <td>HCL</td>\n",
       "      <td>10-20 Yrs</td>\n",
       "      <td>Kolkata, Hyderabad/Secunderabad, Pune, Chennai...</td>\n",
       "    </tr>\n",
       "    <tr>\n",
       "      <th>Sr . Data Scientist</th>\n",
       "      <td>Visa</td>\n",
       "      <td>6-8 Yrs</td>\n",
       "      <td>Bangalore/Bengaluru</td>\n",
       "    </tr>\n",
       "    <tr>\n",
       "      <th>Need Data scientists and data engineers - WFH- less than 30days notice</th>\n",
       "      <td>Covalense Technologies Private Limited</td>\n",
       "      <td>8-13 Yrs</td>\n",
       "      <td>Hyderabad/Secunderabad, Bangalore/Bengaluru, M...</td>\n",
       "    </tr>\n",
       "    <tr>\n",
       "      <th>Principal Data Scientist</th>\n",
       "      <td>EVOLVE TECHNOLOGIES AND SERVICES PRIVATE LIMITED</td>\n",
       "      <td>8-12 Yrs</td>\n",
       "      <td>Bangalore/Bengaluru</td>\n",
       "    </tr>\n",
       "    <tr>\n",
       "      <th>Data Scientist</th>\n",
       "      <td>Mobile Premier League</td>\n",
       "      <td>4-9 Yrs</td>\n",
       "      <td>Bangalore/Bengaluru</td>\n",
       "    </tr>\n",
       "    <tr>\n",
       "      <th>Data Scientist</th>\n",
       "      <td>Shell</td>\n",
       "      <td>1-6 Yrs</td>\n",
       "      <td>Pune, Gurgaon/Gurugram, Chennai, Bangalore/Ben...</td>\n",
       "    </tr>\n",
       "    <tr>\n",
       "      <th>Data Scientist</th>\n",
       "      <td>HDFC Bank</td>\n",
       "      <td>5-10 Yrs</td>\n",
       "      <td>Bangalore/Bengaluru</td>\n",
       "    </tr>\n",
       "  </tbody>\n",
       "</table>\n",
       "</div>"
      ],
      "text/plain": [
       "                                                                                             Company  \\\n",
       "Job Title                                                                                              \n",
       "Data Scientist III                                                                           Groupon   \n",
       "Sr Data Scientist                                                                               Uber   \n",
       "Data Scientist/Senior Data Scientist - Python                                   ApicalGo Consultancy   \n",
       "HCL Tech Opening - Lead Data Scientist                                                           HCL   \n",
       "Sr . Data Scientist                                                                             Visa   \n",
       "Need Data scientists and data engineers - WFH- ...            Covalense Technologies Private Limited   \n",
       "Principal Data Scientist                            EVOLVE TECHNOLOGIES AND SERVICES PRIVATE LIMITED   \n",
       "Data Scientist                                                                 Mobile Premier League   \n",
       "Data Scientist                                                                                 Shell   \n",
       "Data Scientist                                                                             HDFC Bank   \n",
       "\n",
       "                                                   Experience  \\\n",
       "Job Title                                                       \n",
       "Data Scientist III                                   6-11 Yrs   \n",
       "Sr Data Scientist                                    6-12 Yrs   \n",
       "Data Scientist/Senior Data Scientist - Python         3-8 Yrs   \n",
       "HCL Tech Opening - Lead Data Scientist              10-20 Yrs   \n",
       "Sr . Data Scientist                                   6-8 Yrs   \n",
       "Need Data scientists and data engineers - WFH- ...   8-13 Yrs   \n",
       "Principal Data Scientist                             8-12 Yrs   \n",
       "Data Scientist                                        4-9 Yrs   \n",
       "Data Scientist                                        1-6 Yrs   \n",
       "Data Scientist                                       5-10 Yrs   \n",
       "\n",
       "                                                                                             Location  \n",
       "Job Title                                                                                              \n",
       "Data Scientist III                                                                Bangalore/Bengaluru  \n",
       "Sr Data Scientist                                                                 Bangalore/Bengaluru  \n",
       "Data Scientist/Senior Data Scientist - Python                                     Bangalore/Bengaluru  \n",
       "HCL Tech Opening - Lead Data Scientist              Kolkata, Hyderabad/Secunderabad, Pune, Chennai...  \n",
       "Sr . Data Scientist                                                               Bangalore/Bengaluru  \n",
       "Need Data scientists and data engineers - WFH- ...  Hyderabad/Secunderabad, Bangalore/Bengaluru, M...  \n",
       "Principal Data Scientist                                                          Bangalore/Bengaluru  \n",
       "Data Scientist                                                                    Bangalore/Bengaluru  \n",
       "Data Scientist                                      Pune, Gurgaon/Gurugram, Chennai, Bangalore/Ben...  \n",
       "Data Scientist                                                                    Bangalore/Bengaluru  "
      ]
     },
     "execution_count": 317,
     "metadata": {},
     "output_type": "execute_result"
    }
   ],
   "source": [
    "#job list\n",
    "df=pd.DataFrame()\n",
    "df['Job Title'] = jobtitle\n",
    "df['Company'] = companydetail\n",
    "df['Experience'] =expdetail\n",
    "df['Location'] = locdetail\n",
    "df.set_index('Job Title',inplace=True)\n",
    "df[0:10]"
   ]
  },
  {
   "cell_type": "code",
   "execution_count": 164,
   "id": "67a8104e",
   "metadata": {},
   "outputs": [],
   "source": [
    "#Question 3- scrape data for Data Scientist for Delhi Location in salary 3-6 lakhsabs"
   ]
  },
  {
   "cell_type": "code",
   "execution_count": 165,
   "id": "e669cdc0",
   "metadata": {},
   "outputs": [],
   "source": [
    "#Import all libraries\n",
    "import selenium\n",
    "from selenium import webdriver\n",
    "import pandas as pd\n",
    "import warnings\n",
    "warnings.filterwarnings(\"ignore\")"
   ]
  },
  {
   "cell_type": "code",
   "execution_count": 221,
   "id": "bd42d82c",
   "metadata": {},
   "outputs": [],
   "source": [
    "driver = webdriver.Chrome(r'C:\\Users\\Ricky Riddhi\\Downloads\\chromedriver_win32\\chromedriver.exe')"
   ]
  },
  {
   "cell_type": "code",
   "execution_count": 222,
   "id": "b78e533e",
   "metadata": {},
   "outputs": [],
   "source": [
    "#Get webpage Naukri.com\n",
    "url = 'https://www.naukri.com/'\n",
    "driver.get(url)"
   ]
  },
  {
   "cell_type": "code",
   "execution_count": 223,
   "id": "345616aa",
   "metadata": {},
   "outputs": [
    {
     "data": {
      "text/plain": [
       "<selenium.webdriver.remote.webelement.WebElement (session=\"a881949c0b3b4693696edd7ffcf3b6d7\", element=\"b30376f1-75f8-4735-b376-47925c5815dd\")>"
      ]
     },
     "execution_count": 223,
     "metadata": {},
     "output_type": "execute_result"
    }
   ],
   "source": [
    "search_job = driver.find_element_by_class_name(\"suggestor-input\")\n",
    "search_job"
   ]
  },
  {
   "cell_type": "code",
   "execution_count": 224,
   "id": "2ef58744",
   "metadata": {},
   "outputs": [],
   "source": [
    "#Finding web element for search job bar using id for Data Analyst Position\n",
    "search_job.send_keys(\"Data Scientist\")"
   ]
  },
  {
   "cell_type": "code",
   "execution_count": 225,
   "id": "dca85b6e",
   "metadata": {},
   "outputs": [
    {
     "data": {
      "text/plain": [
       "<selenium.webdriver.remote.webelement.WebElement (session=\"a881949c0b3b4693696edd7ffcf3b6d7\", element=\"608ae99b-c783-4ef5-8e43-5b9e34711a0c\")>"
      ]
     },
     "execution_count": 225,
     "metadata": {},
     "output_type": "execute_result"
    }
   ],
   "source": [
    "#find location as Delhi\n",
    "search_location = driver.find_element_by_xpath('/html/body/div/div[2]/div[3]/div/div/div[3]/div/div/div/input')\n",
    "search_location"
   ]
  },
  {
   "cell_type": "code",
   "execution_count": 226,
   "id": "13809e56",
   "metadata": {},
   "outputs": [],
   "source": [
    "search_location.send_keys(\"Delhi\")"
   ]
  },
  {
   "cell_type": "code",
   "execution_count": 227,
   "id": "6604bf73",
   "metadata": {},
   "outputs": [
    {
     "data": {
      "text/plain": [
       "<selenium.webdriver.remote.webelement.WebElement (session=\"a881949c0b3b4693696edd7ffcf3b6d7\", element=\"67fd60b0-1046-4e24-be55-346e99b83431\")>"
      ]
     },
     "execution_count": 227,
     "metadata": {},
     "output_type": "execute_result"
    }
   ],
   "source": [
    "submit = driver.find_element_by_class_name(\"qsbSubmit\")\n",
    "submit"
   ]
  },
  {
   "cell_type": "code",
   "execution_count": 228,
   "id": "dc335bab",
   "metadata": {},
   "outputs": [],
   "source": [
    "submit.click()"
   ]
  },
  {
   "cell_type": "code",
   "execution_count": 257,
   "id": "94adbcf3",
   "metadata": {},
   "outputs": [],
   "source": [
    "salary_check = driver.find_element_by_xpath('/html/body/div[1]/div[3]/div[2]/section[1]/div[2]/div[1]/div[2]/div[2]/label/i')"
   ]
  },
  {
   "cell_type": "code",
   "execution_count": 258,
   "id": "b1500fd0",
   "metadata": {},
   "outputs": [],
   "source": [
    "salary_check.click()"
   ]
  },
  {
   "cell_type": "code",
   "execution_count": 260,
   "id": "b64532c0",
   "metadata": {},
   "outputs": [
    {
     "data": {
      "text/plain": [
       "[<selenium.webdriver.remote.webelement.WebElement (session=\"a881949c0b3b4693696edd7ffcf3b6d7\", element=\"b5ff4ef5-5e48-4d7b-8584-79beed7d6fe1\")>,\n",
       " <selenium.webdriver.remote.webelement.WebElement (session=\"a881949c0b3b4693696edd7ffcf3b6d7\", element=\"1c393ce3-404e-43ce-be97-2821cad5582b\")>,\n",
       " <selenium.webdriver.remote.webelement.WebElement (session=\"a881949c0b3b4693696edd7ffcf3b6d7\", element=\"5834e846-3a8c-4518-869d-5f6b29e0cb4d\")>,\n",
       " <selenium.webdriver.remote.webelement.WebElement (session=\"a881949c0b3b4693696edd7ffcf3b6d7\", element=\"3f42c278-37d6-49b4-82ff-6998405fd2e6\")>,\n",
       " <selenium.webdriver.remote.webelement.WebElement (session=\"a881949c0b3b4693696edd7ffcf3b6d7\", element=\"10c07407-79cc-4983-bf01-684a00a3127b\")>,\n",
       " <selenium.webdriver.remote.webelement.WebElement (session=\"a881949c0b3b4693696edd7ffcf3b6d7\", element=\"d1ea8361-cd6b-4f21-8687-1be770fdd56e\")>,\n",
       " <selenium.webdriver.remote.webelement.WebElement (session=\"a881949c0b3b4693696edd7ffcf3b6d7\", element=\"c9b11e9f-9238-47d3-8400-b4044f85ee88\")>,\n",
       " <selenium.webdriver.remote.webelement.WebElement (session=\"a881949c0b3b4693696edd7ffcf3b6d7\", element=\"4116bd21-f1f5-44a7-8335-e0b5caa1e535\")>,\n",
       " <selenium.webdriver.remote.webelement.WebElement (session=\"a881949c0b3b4693696edd7ffcf3b6d7\", element=\"a3618e8f-0954-4f93-b83d-6da652b32282\")>,\n",
       " <selenium.webdriver.remote.webelement.WebElement (session=\"a881949c0b3b4693696edd7ffcf3b6d7\", element=\"a2d9868d-d33d-44ae-850f-81b7cdd37b8b\")>]"
      ]
     },
     "execution_count": 260,
     "metadata": {},
     "output_type": "execute_result"
    }
   ],
   "source": [
    "title_name =  driver.find_elements_by_xpath('//a[@class=\"title fw500 ellipsis\"]')\n",
    "len(title_name)\n",
    "title_name[0:10]"
   ]
  },
  {
   "cell_type": "code",
   "execution_count": 261,
   "id": "6a32c962",
   "metadata": {},
   "outputs": [
    {
     "data": {
      "text/plain": [
       "['Hiring For Senior Data Scientist-Noida',\n",
       " 'Excellent Opportunity For Freshers For AI/ML, Data Scientist, BI, QA',\n",
       " 'Data Analyst / Data Scientist / Business Analytics / Fresher - MNC',\n",
       " 'Data scientist- Python',\n",
       " 'Data Scientist _NLP',\n",
       " 'Data Scientist',\n",
       " 'Lead Data Scientist',\n",
       " 'Data Scientist (freelance)',\n",
       " 'Only Fresher / Python Data Scientist / Trainee / Analytics - MNC Jobs',\n",
       " 'Hiring For Data Scientist- Gurgaon/ Noida']"
      ]
     },
     "execution_count": 261,
     "metadata": {},
     "output_type": "execute_result"
    }
   ],
   "source": [
    "titlename = []\n",
    "\n",
    "for i in title_name:\n",
    "    titlename.append(i.text)\n",
    "len(titlename)\n",
    "titlename[0:10]"
   ]
  },
  {
   "cell_type": "code",
   "execution_count": 263,
   "id": "8cfc4531",
   "metadata": {},
   "outputs": [
    {
     "data": {
      "text/plain": [
       "[<selenium.webdriver.remote.webelement.WebElement (session=\"a881949c0b3b4693696edd7ffcf3b6d7\", element=\"c5790680-e6d1-4769-a456-0ab736b35ce1\")>,\n",
       " <selenium.webdriver.remote.webelement.WebElement (session=\"a881949c0b3b4693696edd7ffcf3b6d7\", element=\"6f91a9b4-fae4-46d0-be8b-521edbbeb8bf\")>,\n",
       " <selenium.webdriver.remote.webelement.WebElement (session=\"a881949c0b3b4693696edd7ffcf3b6d7\", element=\"5d7a8de5-e2ba-40fd-be11-592e9031f91e\")>,\n",
       " <selenium.webdriver.remote.webelement.WebElement (session=\"a881949c0b3b4693696edd7ffcf3b6d7\", element=\"1554b7bd-6d58-48b2-a7de-a9da8f192914\")>,\n",
       " <selenium.webdriver.remote.webelement.WebElement (session=\"a881949c0b3b4693696edd7ffcf3b6d7\", element=\"041a431d-61b9-49e8-9ac6-01fcf2cfb0e4\")>,\n",
       " <selenium.webdriver.remote.webelement.WebElement (session=\"a881949c0b3b4693696edd7ffcf3b6d7\", element=\"8fe7da38-0113-4d8d-894f-f41af5150126\")>,\n",
       " <selenium.webdriver.remote.webelement.WebElement (session=\"a881949c0b3b4693696edd7ffcf3b6d7\", element=\"8ce77565-b736-4c39-b7cd-c679ee9863ee\")>,\n",
       " <selenium.webdriver.remote.webelement.WebElement (session=\"a881949c0b3b4693696edd7ffcf3b6d7\", element=\"2d0d5ec2-365c-4924-937e-3baad667ee82\")>,\n",
       " <selenium.webdriver.remote.webelement.WebElement (session=\"a881949c0b3b4693696edd7ffcf3b6d7\", element=\"873124cf-f8ab-4f08-9cfb-9d5a4f5d689a\")>,\n",
       " <selenium.webdriver.remote.webelement.WebElement (session=\"a881949c0b3b4693696edd7ffcf3b6d7\", element=\"8ddd4830-6335-4065-aa88-56fe0948250c\")>]"
      ]
     },
     "execution_count": 263,
     "metadata": {},
     "output_type": "execute_result"
    }
   ],
   "source": [
    "company_name =  driver.find_elements_by_xpath('//a[@class=\"subTitle ellipsis fleft\"]')\n",
    "len(company_name)\n",
    "company_name[0:10]\n"
   ]
  },
  {
   "cell_type": "code",
   "execution_count": 264,
   "id": "95cfa6cd",
   "metadata": {},
   "outputs": [
    {
     "data": {
      "text/plain": [
       "['Lumiq.ai',\n",
       " 'NTT Data',\n",
       " 'GABA Consultancy services',\n",
       " 'TeamPlus Staffing Solution Pvt Ltd',\n",
       " 'EXL',\n",
       " 'Mount Talent Consulting Private Limited',\n",
       " 'Indihire HR Consultants Private Limited',\n",
       " '2Coms',\n",
       " 'GABA Consultancy services',\n",
       " 'Mascot e-services']"
      ]
     },
     "execution_count": 264,
     "metadata": {},
     "output_type": "execute_result"
    }
   ],
   "source": [
    "companyname = []\n",
    "\n",
    "for i in company_name:\n",
    "    companyname.append(i.text)\n",
    "len(companyname)\n",
    "companyname[0:10]"
   ]
  },
  {
   "cell_type": "code",
   "execution_count": 265,
   "id": "6005d3ff",
   "metadata": {},
   "outputs": [
    {
     "data": {
      "text/plain": [
       "[<selenium.webdriver.remote.webelement.WebElement (session=\"a881949c0b3b4693696edd7ffcf3b6d7\", element=\"ff5194e0-6ad5-4123-88fa-65b3b642ca9f\")>,\n",
       " <selenium.webdriver.remote.webelement.WebElement (session=\"a881949c0b3b4693696edd7ffcf3b6d7\", element=\"aba05b71-3f05-483b-bff8-1fdd3dc266a5\")>,\n",
       " <selenium.webdriver.remote.webelement.WebElement (session=\"a881949c0b3b4693696edd7ffcf3b6d7\", element=\"7b0a0016-31ff-4068-906d-7777caa7638a\")>,\n",
       " <selenium.webdriver.remote.webelement.WebElement (session=\"a881949c0b3b4693696edd7ffcf3b6d7\", element=\"bd790c34-85b2-47cc-b4cd-d8216d29ad62\")>,\n",
       " <selenium.webdriver.remote.webelement.WebElement (session=\"a881949c0b3b4693696edd7ffcf3b6d7\", element=\"eac26540-f1d2-4a71-a532-621e08bed473\")>,\n",
       " <selenium.webdriver.remote.webelement.WebElement (session=\"a881949c0b3b4693696edd7ffcf3b6d7\", element=\"f27f1fd6-9398-405b-a19b-f3ec3421cda3\")>,\n",
       " <selenium.webdriver.remote.webelement.WebElement (session=\"a881949c0b3b4693696edd7ffcf3b6d7\", element=\"b7275b23-c6b4-416e-bf34-86510a800d4c\")>,\n",
       " <selenium.webdriver.remote.webelement.WebElement (session=\"a881949c0b3b4693696edd7ffcf3b6d7\", element=\"f526997c-968b-44aa-88fe-3ec2a667b573\")>,\n",
       " <selenium.webdriver.remote.webelement.WebElement (session=\"a881949c0b3b4693696edd7ffcf3b6d7\", element=\"e706d47b-b229-4ba2-9e22-5d8b4dca9a9b\")>,\n",
       " <selenium.webdriver.remote.webelement.WebElement (session=\"a881949c0b3b4693696edd7ffcf3b6d7\", element=\"86852d65-3028-4e0b-8b73-781d893e7b79\")>]"
      ]
     },
     "execution_count": 265,
     "metadata": {},
     "output_type": "execute_result"
    }
   ],
   "source": [
    "expd =  driver.find_elements_by_xpath('//li[@class=\"fleft grey-text br2 placeHolderLi experience\"]')\n",
    "len(expd)\n",
    "expd[0:10]\n"
   ]
  },
  {
   "cell_type": "code",
   "execution_count": 266,
   "id": "1531cf20",
   "metadata": {},
   "outputs": [
    {
     "data": {
      "text/plain": [
       "['2-6 Yrs',\n",
       " '0-0 Yrs',\n",
       " '0-0 Yrs',\n",
       " '3-6 Yrs',\n",
       " '3-8 Yrs',\n",
       " '1-4 Yrs',\n",
       " '2-4 Yrs',\n",
       " '2-7 Yrs',\n",
       " '0-0 Yrs',\n",
       " '2-4 Yrs']"
      ]
     },
     "execution_count": 266,
     "metadata": {},
     "output_type": "execute_result"
    }
   ],
   "source": [
    "expname = []\n",
    "\n",
    "for i in expd:\n",
    "    expname.append(i.text)\n",
    "len(expname)\n",
    "expname[0:10]"
   ]
  },
  {
   "cell_type": "code",
   "execution_count": 267,
   "id": "da28fdcc",
   "metadata": {},
   "outputs": [
    {
     "data": {
      "text/plain": [
       "[<selenium.webdriver.remote.webelement.WebElement (session=\"a881949c0b3b4693696edd7ffcf3b6d7\", element=\"83362104-8a9d-483e-8430-d4ccb0985af5\")>,\n",
       " <selenium.webdriver.remote.webelement.WebElement (session=\"a881949c0b3b4693696edd7ffcf3b6d7\", element=\"2cfcc45e-2823-4110-8309-f495c9efa8a7\")>,\n",
       " <selenium.webdriver.remote.webelement.WebElement (session=\"a881949c0b3b4693696edd7ffcf3b6d7\", element=\"faf06e15-a840-4452-920d-0e9cf50fa7ac\")>,\n",
       " <selenium.webdriver.remote.webelement.WebElement (session=\"a881949c0b3b4693696edd7ffcf3b6d7\", element=\"9f5da6aa-28da-4be1-924a-6afdfdb9a318\")>,\n",
       " <selenium.webdriver.remote.webelement.WebElement (session=\"a881949c0b3b4693696edd7ffcf3b6d7\", element=\"fccc4458-dceb-4e18-ace1-3b86565a4190\")>,\n",
       " <selenium.webdriver.remote.webelement.WebElement (session=\"a881949c0b3b4693696edd7ffcf3b6d7\", element=\"37a40cea-b630-4c3f-92b3-ddbdb9af8229\")>,\n",
       " <selenium.webdriver.remote.webelement.WebElement (session=\"a881949c0b3b4693696edd7ffcf3b6d7\", element=\"4f0740b5-2be2-44ef-bfa6-61ca1bf833f0\")>,\n",
       " <selenium.webdriver.remote.webelement.WebElement (session=\"a881949c0b3b4693696edd7ffcf3b6d7\", element=\"75c0e448-21d4-4eca-8312-18fa72d2aca7\")>,\n",
       " <selenium.webdriver.remote.webelement.WebElement (session=\"a881949c0b3b4693696edd7ffcf3b6d7\", element=\"0ce92a00-70fa-41ca-9810-ddee0fa784b1\")>,\n",
       " <selenium.webdriver.remote.webelement.WebElement (session=\"a881949c0b3b4693696edd7ffcf3b6d7\", element=\"a94aa48d-4818-4809-aae2-d8f0e74d8753\")>]"
      ]
     },
     "execution_count": 267,
     "metadata": {},
     "output_type": "execute_result"
    }
   ],
   "source": [
    "locd =  driver.find_elements_by_xpath('//li[@class=\"fleft grey-text br2 placeHolderLi location\"]')\n",
    "len(locd)\n",
    "locd[0:10]"
   ]
  },
  {
   "cell_type": "code",
   "execution_count": 268,
   "id": "3c076adb",
   "metadata": {},
   "outputs": [
    {
     "data": {
      "text/plain": [
       "['Noida, New Delhi, Greater Noida',\n",
       " 'Noida, Kolkata, Hyderabad/Secunderabad, Pune, Chennai, Bangalore/Bengaluru, Delhi / NCR, Mumbai (All Areas)\\n(WFH during Covid)',\n",
       " 'Noida, New Delhi, Delhi / NCR',\n",
       " 'Gurgaon/Gurugram',\n",
       " 'Bangalore/Bengaluru, Delhi / NCR\\n(WFH during Covid)',\n",
       " 'Hyderabad/Secunderabad, Pune, Gurgaon/Gurugram, Bangalore/Bengaluru, Delhi / NCR',\n",
       " 'Delhi / NCR\\n(WFH during Covid)',\n",
       " 'New Delhi, Delhi',\n",
       " 'Noida, New Delhi, Gurgaon/Gurugram',\n",
       " 'Noida, Gurgaon/Gurugram']"
      ]
     },
     "execution_count": 268,
     "metadata": {},
     "output_type": "execute_result"
    }
   ],
   "source": [
    "locname = []\n",
    "\n",
    "for i in locd:\n",
    "    locname.append(i.text)\n",
    "len(locname)\n",
    "locname[0:10]"
   ]
  },
  {
   "cell_type": "code",
   "execution_count": 313,
   "id": "13dd6484",
   "metadata": {},
   "outputs": [
    {
     "data": {
      "text/html": [
       "<div>\n",
       "<style scoped>\n",
       "    .dataframe tbody tr th:only-of-type {\n",
       "        vertical-align: middle;\n",
       "    }\n",
       "\n",
       "    .dataframe tbody tr th {\n",
       "        vertical-align: top;\n",
       "    }\n",
       "\n",
       "    .dataframe thead th {\n",
       "        text-align: right;\n",
       "    }\n",
       "</style>\n",
       "<table border=\"1\" class=\"dataframe\">\n",
       "  <thead>\n",
       "    <tr style=\"text-align: right;\">\n",
       "      <th></th>\n",
       "      <th>Job Title</th>\n",
       "      <th>Company</th>\n",
       "      <th>Experience</th>\n",
       "      <th>Location</th>\n",
       "    </tr>\n",
       "  </thead>\n",
       "  <tbody>\n",
       "    <tr>\n",
       "      <th>0</th>\n",
       "      <td>Hiring For Senior Data Scientist-Noida</td>\n",
       "      <td>Lumiq.ai</td>\n",
       "      <td>2-6 Yrs</td>\n",
       "      <td>Noida, New Delhi, Greater Noida</td>\n",
       "    </tr>\n",
       "    <tr>\n",
       "      <th>1</th>\n",
       "      <td>Excellent Opportunity For Freshers For AI/ML, ...</td>\n",
       "      <td>NTT Data</td>\n",
       "      <td>0-0 Yrs</td>\n",
       "      <td>Noida, Kolkata, Hyderabad/Secunderabad, Pune, ...</td>\n",
       "    </tr>\n",
       "    <tr>\n",
       "      <th>2</th>\n",
       "      <td>Data Analyst / Data Scientist / Business Analy...</td>\n",
       "      <td>GABA Consultancy services</td>\n",
       "      <td>0-0 Yrs</td>\n",
       "      <td>Noida, New Delhi, Delhi / NCR</td>\n",
       "    </tr>\n",
       "    <tr>\n",
       "      <th>3</th>\n",
       "      <td>Data scientist- Python</td>\n",
       "      <td>TeamPlus Staffing Solution Pvt Ltd</td>\n",
       "      <td>3-6 Yrs</td>\n",
       "      <td>Gurgaon/Gurugram</td>\n",
       "    </tr>\n",
       "    <tr>\n",
       "      <th>4</th>\n",
       "      <td>Data Scientist _NLP</td>\n",
       "      <td>EXL</td>\n",
       "      <td>3-8 Yrs</td>\n",
       "      <td>Bangalore/Bengaluru, Delhi / NCR\\n(WFH during ...</td>\n",
       "    </tr>\n",
       "    <tr>\n",
       "      <th>5</th>\n",
       "      <td>Data Scientist</td>\n",
       "      <td>Mount Talent Consulting Private Limited</td>\n",
       "      <td>1-4 Yrs</td>\n",
       "      <td>Hyderabad/Secunderabad, Pune, Gurgaon/Gurugram...</td>\n",
       "    </tr>\n",
       "    <tr>\n",
       "      <th>6</th>\n",
       "      <td>Lead Data Scientist</td>\n",
       "      <td>Indihire HR Consultants Private Limited</td>\n",
       "      <td>2-4 Yrs</td>\n",
       "      <td>Delhi / NCR\\n(WFH during Covid)</td>\n",
       "    </tr>\n",
       "    <tr>\n",
       "      <th>7</th>\n",
       "      <td>Data Scientist (freelance)</td>\n",
       "      <td>2Coms</td>\n",
       "      <td>2-7 Yrs</td>\n",
       "      <td>New Delhi, Delhi</td>\n",
       "    </tr>\n",
       "    <tr>\n",
       "      <th>8</th>\n",
       "      <td>Only Fresher / Python Data Scientist / Trainee...</td>\n",
       "      <td>GABA Consultancy services</td>\n",
       "      <td>0-0 Yrs</td>\n",
       "      <td>Noida, New Delhi, Gurgaon/Gurugram</td>\n",
       "    </tr>\n",
       "    <tr>\n",
       "      <th>9</th>\n",
       "      <td>Hiring For Data Scientist- Gurgaon/ Noida</td>\n",
       "      <td>Mascot e-services</td>\n",
       "      <td>2-4 Yrs</td>\n",
       "      <td>Noida, Gurgaon/Gurugram</td>\n",
       "    </tr>\n",
       "    <tr>\n",
       "      <th>10</th>\n",
       "      <td>Urgent Requirement || Data Scientist || Noida</td>\n",
       "      <td>HCL</td>\n",
       "      <td>3-8 Yrs</td>\n",
       "      <td>Noida, Delhi / NCR</td>\n",
       "    </tr>\n",
       "    <tr>\n",
       "      <th>11</th>\n",
       "      <td>Senior Data Scientist</td>\n",
       "      <td>iNICU</td>\n",
       "      <td>1-5 Yrs</td>\n",
       "      <td>Delhi</td>\n",
       "    </tr>\n",
       "    <tr>\n",
       "      <th>12</th>\n",
       "      <td>Junior Data Analyst/ Scientist- Fresher Position</td>\n",
       "      <td>Sejal Consulting Hub</td>\n",
       "      <td>0-3 Yrs</td>\n",
       "      <td>Kolkata, Hyderabad/Secunderabad, Pune, Ahmedab...</td>\n",
       "    </tr>\n",
       "    <tr>\n",
       "      <th>13</th>\n",
       "      <td>Data Scientist</td>\n",
       "      <td>Boston Consulting Group</td>\n",
       "      <td>2-5 Yrs</td>\n",
       "      <td>New Delhi</td>\n",
       "    </tr>\n",
       "    <tr>\n",
       "      <th>14</th>\n",
       "      <td>Data Scientist</td>\n",
       "      <td>Stefanini</td>\n",
       "      <td>3-8 Yrs</td>\n",
       "      <td>Noida</td>\n",
       "    </tr>\n",
       "    <tr>\n",
       "      <th>15</th>\n",
       "      <td>Lead Data Scientist - KYC/Fraud/Marketing</td>\n",
       "      <td>Tide Software</td>\n",
       "      <td>1-6 Yrs</td>\n",
       "      <td>New Delhi</td>\n",
       "    </tr>\n",
       "    <tr>\n",
       "      <th>16</th>\n",
       "      <td>Open Project | IT Consulting | Data Scientist</td>\n",
       "      <td>Virtuoso Staffing Solutions Pvt Ltd</td>\n",
       "      <td>5-10 Yrs</td>\n",
       "      <td>Noida, New Delhi, Bangalore Rural, Bangalore/B...</td>\n",
       "    </tr>\n",
       "    <tr>\n",
       "      <th>17</th>\n",
       "      <td>Data Scientist</td>\n",
       "      <td>BlackBuck</td>\n",
       "      <td>3-7 Yrs</td>\n",
       "      <td>Gurgaon, Bengaluru</td>\n",
       "    </tr>\n",
       "    <tr>\n",
       "      <th>18</th>\n",
       "      <td>Data Scientist</td>\n",
       "      <td>Country Veggie</td>\n",
       "      <td>1-3 Yrs</td>\n",
       "      <td>Bharuch, Jaipur, Bhopal, Mumbai, Jhansi, Nagpu...</td>\n",
       "    </tr>\n",
       "    <tr>\n",
       "      <th>19</th>\n",
       "      <td>Data Scientist</td>\n",
       "      <td>NAVIKENZ INDIA PRIVATE LIMITED</td>\n",
       "      <td>2-5 Yrs</td>\n",
       "      <td>Hyderabad/Secunderabad, Bangalore/Bengaluru, D...</td>\n",
       "    </tr>\n",
       "  </tbody>\n",
       "</table>\n",
       "</div>"
      ],
      "text/plain": [
       "                                            Job Title  \\\n",
       "0              Hiring For Senior Data Scientist-Noida   \n",
       "1   Excellent Opportunity For Freshers For AI/ML, ...   \n",
       "2   Data Analyst / Data Scientist / Business Analy...   \n",
       "3                              Data scientist- Python   \n",
       "4                                 Data Scientist _NLP   \n",
       "5                                      Data Scientist   \n",
       "6                                 Lead Data Scientist   \n",
       "7                          Data Scientist (freelance)   \n",
       "8   Only Fresher / Python Data Scientist / Trainee...   \n",
       "9           Hiring For Data Scientist- Gurgaon/ Noida   \n",
       "10      Urgent Requirement || Data Scientist || Noida   \n",
       "11                              Senior Data Scientist   \n",
       "12   Junior Data Analyst/ Scientist- Fresher Position   \n",
       "13                                     Data Scientist   \n",
       "14                                     Data Scientist   \n",
       "15          Lead Data Scientist - KYC/Fraud/Marketing   \n",
       "16      Open Project | IT Consulting | Data Scientist   \n",
       "17                                     Data Scientist   \n",
       "18                                     Data Scientist   \n",
       "19                                     Data Scientist   \n",
       "\n",
       "                                    Company Experience  \\\n",
       "0                                  Lumiq.ai    2-6 Yrs   \n",
       "1                                  NTT Data    0-0 Yrs   \n",
       "2                 GABA Consultancy services    0-0 Yrs   \n",
       "3        TeamPlus Staffing Solution Pvt Ltd    3-6 Yrs   \n",
       "4                                       EXL    3-8 Yrs   \n",
       "5   Mount Talent Consulting Private Limited    1-4 Yrs   \n",
       "6   Indihire HR Consultants Private Limited    2-4 Yrs   \n",
       "7                                     2Coms    2-7 Yrs   \n",
       "8                 GABA Consultancy services    0-0 Yrs   \n",
       "9                         Mascot e-services    2-4 Yrs   \n",
       "10                                      HCL    3-8 Yrs   \n",
       "11                                    iNICU    1-5 Yrs   \n",
       "12                     Sejal Consulting Hub    0-3 Yrs   \n",
       "13                  Boston Consulting Group    2-5 Yrs   \n",
       "14                                Stefanini    3-8 Yrs   \n",
       "15                            Tide Software    1-6 Yrs   \n",
       "16      Virtuoso Staffing Solutions Pvt Ltd   5-10 Yrs   \n",
       "17                                BlackBuck    3-7 Yrs   \n",
       "18                           Country Veggie    1-3 Yrs   \n",
       "19           NAVIKENZ INDIA PRIVATE LIMITED    2-5 Yrs   \n",
       "\n",
       "                                             Location  \n",
       "0                     Noida, New Delhi, Greater Noida  \n",
       "1   Noida, Kolkata, Hyderabad/Secunderabad, Pune, ...  \n",
       "2                       Noida, New Delhi, Delhi / NCR  \n",
       "3                                    Gurgaon/Gurugram  \n",
       "4   Bangalore/Bengaluru, Delhi / NCR\\n(WFH during ...  \n",
       "5   Hyderabad/Secunderabad, Pune, Gurgaon/Gurugram...  \n",
       "6                     Delhi / NCR\\n(WFH during Covid)  \n",
       "7                                    New Delhi, Delhi  \n",
       "8                  Noida, New Delhi, Gurgaon/Gurugram  \n",
       "9                             Noida, Gurgaon/Gurugram  \n",
       "10                                 Noida, Delhi / NCR  \n",
       "11                                              Delhi  \n",
       "12  Kolkata, Hyderabad/Secunderabad, Pune, Ahmedab...  \n",
       "13                                          New Delhi  \n",
       "14                                              Noida  \n",
       "15                                          New Delhi  \n",
       "16  Noida, New Delhi, Bangalore Rural, Bangalore/B...  \n",
       "17                                 Gurgaon, Bengaluru  \n",
       "18  Bharuch, Jaipur, Bhopal, Mumbai, Jhansi, Nagpu...  \n",
       "19  Hyderabad/Secunderabad, Bangalore/Bengaluru, D...  "
      ]
     },
     "execution_count": 313,
     "metadata": {},
     "output_type": "execute_result"
    }
   ],
   "source": [
    "#job list\n",
    "sd=pd.DataFrame()\n",
    "sd['Job Title'] = titlename\n",
    "sd['Company'] = companyname\n",
    "sd['Experience'] =expname\n",
    "sd['Location'] = locname\n",
    "sd"
   ]
  },
  {
   "cell_type": "code",
   "execution_count": 314,
   "id": "579742a1",
   "metadata": {},
   "outputs": [
    {
     "data": {
      "text/html": [
       "<div>\n",
       "<style scoped>\n",
       "    .dataframe tbody tr th:only-of-type {\n",
       "        vertical-align: middle;\n",
       "    }\n",
       "\n",
       "    .dataframe tbody tr th {\n",
       "        vertical-align: top;\n",
       "    }\n",
       "\n",
       "    .dataframe thead th {\n",
       "        text-align: right;\n",
       "    }\n",
       "</style>\n",
       "<table border=\"1\" class=\"dataframe\">\n",
       "  <thead>\n",
       "    <tr style=\"text-align: right;\">\n",
       "      <th></th>\n",
       "      <th>Company</th>\n",
       "      <th>Experience</th>\n",
       "      <th>Location</th>\n",
       "    </tr>\n",
       "    <tr>\n",
       "      <th>Job Title</th>\n",
       "      <th></th>\n",
       "      <th></th>\n",
       "      <th></th>\n",
       "    </tr>\n",
       "  </thead>\n",
       "  <tbody>\n",
       "    <tr>\n",
       "      <th>Hiring For Senior Data Scientist-Noida</th>\n",
       "      <td>Lumiq.ai</td>\n",
       "      <td>2-6 Yrs</td>\n",
       "      <td>Noida, New Delhi, Greater Noida</td>\n",
       "    </tr>\n",
       "    <tr>\n",
       "      <th>Excellent Opportunity For Freshers For AI/ML, Data Scientist, BI, QA</th>\n",
       "      <td>NTT Data</td>\n",
       "      <td>0-0 Yrs</td>\n",
       "      <td>Noida, Kolkata, Hyderabad/Secunderabad, Pune, ...</td>\n",
       "    </tr>\n",
       "    <tr>\n",
       "      <th>Data Analyst / Data Scientist / Business Analytics / Fresher - MNC</th>\n",
       "      <td>GABA Consultancy services</td>\n",
       "      <td>0-0 Yrs</td>\n",
       "      <td>Noida, New Delhi, Delhi / NCR</td>\n",
       "    </tr>\n",
       "    <tr>\n",
       "      <th>Data scientist- Python</th>\n",
       "      <td>TeamPlus Staffing Solution Pvt Ltd</td>\n",
       "      <td>3-6 Yrs</td>\n",
       "      <td>Gurgaon/Gurugram</td>\n",
       "    </tr>\n",
       "    <tr>\n",
       "      <th>Data Scientist _NLP</th>\n",
       "      <td>EXL</td>\n",
       "      <td>3-8 Yrs</td>\n",
       "      <td>Bangalore/Bengaluru, Delhi / NCR\\n(WFH during ...</td>\n",
       "    </tr>\n",
       "    <tr>\n",
       "      <th>Data Scientist</th>\n",
       "      <td>Mount Talent Consulting Private Limited</td>\n",
       "      <td>1-4 Yrs</td>\n",
       "      <td>Hyderabad/Secunderabad, Pune, Gurgaon/Gurugram...</td>\n",
       "    </tr>\n",
       "    <tr>\n",
       "      <th>Lead Data Scientist</th>\n",
       "      <td>Indihire HR Consultants Private Limited</td>\n",
       "      <td>2-4 Yrs</td>\n",
       "      <td>Delhi / NCR\\n(WFH during Covid)</td>\n",
       "    </tr>\n",
       "    <tr>\n",
       "      <th>Data Scientist (freelance)</th>\n",
       "      <td>2Coms</td>\n",
       "      <td>2-7 Yrs</td>\n",
       "      <td>New Delhi, Delhi</td>\n",
       "    </tr>\n",
       "    <tr>\n",
       "      <th>Only Fresher / Python Data Scientist / Trainee / Analytics - MNC Jobs</th>\n",
       "      <td>GABA Consultancy services</td>\n",
       "      <td>0-0 Yrs</td>\n",
       "      <td>Noida, New Delhi, Gurgaon/Gurugram</td>\n",
       "    </tr>\n",
       "    <tr>\n",
       "      <th>Hiring For Data Scientist- Gurgaon/ Noida</th>\n",
       "      <td>Mascot e-services</td>\n",
       "      <td>2-4 Yrs</td>\n",
       "      <td>Noida, Gurgaon/Gurugram</td>\n",
       "    </tr>\n",
       "  </tbody>\n",
       "</table>\n",
       "</div>"
      ],
      "text/plain": [
       "                                                                                    Company  \\\n",
       "Job Title                                                                                     \n",
       "Hiring For Senior Data Scientist-Noida                                             Lumiq.ai   \n",
       "Excellent Opportunity For Freshers For AI/ML, D...                                 NTT Data   \n",
       "Data Analyst / Data Scientist / Business Analyt...                GABA Consultancy services   \n",
       "Data scientist- Python                                   TeamPlus Staffing Solution Pvt Ltd   \n",
       "Data Scientist _NLP                                                                     EXL   \n",
       "Data Scientist                                      Mount Talent Consulting Private Limited   \n",
       "Lead Data Scientist                                 Indihire HR Consultants Private Limited   \n",
       "Data Scientist (freelance)                                                            2Coms   \n",
       "Only Fresher / Python Data Scientist / Trainee ...                GABA Consultancy services   \n",
       "Hiring For Data Scientist- Gurgaon/ Noida                                 Mascot e-services   \n",
       "\n",
       "                                                   Experience  \\\n",
       "Job Title                                                       \n",
       "Hiring For Senior Data Scientist-Noida                2-6 Yrs   \n",
       "Excellent Opportunity For Freshers For AI/ML, D...    0-0 Yrs   \n",
       "Data Analyst / Data Scientist / Business Analyt...    0-0 Yrs   \n",
       "Data scientist- Python                                3-6 Yrs   \n",
       "Data Scientist _NLP                                   3-8 Yrs   \n",
       "Data Scientist                                        1-4 Yrs   \n",
       "Lead Data Scientist                                   2-4 Yrs   \n",
       "Data Scientist (freelance)                            2-7 Yrs   \n",
       "Only Fresher / Python Data Scientist / Trainee ...    0-0 Yrs   \n",
       "Hiring For Data Scientist- Gurgaon/ Noida             2-4 Yrs   \n",
       "\n",
       "                                                                                             Location  \n",
       "Job Title                                                                                              \n",
       "Hiring For Senior Data Scientist-Noida                                Noida, New Delhi, Greater Noida  \n",
       "Excellent Opportunity For Freshers For AI/ML, D...  Noida, Kolkata, Hyderabad/Secunderabad, Pune, ...  \n",
       "Data Analyst / Data Scientist / Business Analyt...                      Noida, New Delhi, Delhi / NCR  \n",
       "Data scientist- Python                                                               Gurgaon/Gurugram  \n",
       "Data Scientist _NLP                                 Bangalore/Bengaluru, Delhi / NCR\\n(WFH during ...  \n",
       "Data Scientist                                      Hyderabad/Secunderabad, Pune, Gurgaon/Gurugram...  \n",
       "Lead Data Scientist                                                   Delhi / NCR\\n(WFH during Covid)  \n",
       "Data Scientist (freelance)                                                           New Delhi, Delhi  \n",
       "Only Fresher / Python Data Scientist / Trainee ...                 Noida, New Delhi, Gurgaon/Gurugram  \n",
       "Hiring For Data Scientist- Gurgaon/ Noida                                     Noida, Gurgaon/Gurugram  "
      ]
     },
     "execution_count": 314,
     "metadata": {},
     "output_type": "execute_result"
    }
   ],
   "source": [
    "#scrape 10 rows\n",
    "sd.set_index('Job Title',inplace=True)\n",
    "sd[0:10]"
   ]
  },
  {
   "cell_type": "code",
   "execution_count": null,
   "id": "ab86b206",
   "metadata": {},
   "outputs": [],
   "source": []
  },
  {
   "cell_type": "code",
   "execution_count": 270,
   "id": "e17221ff",
   "metadata": {},
   "outputs": [],
   "source": [
    "#Q4, Scrape date of 100 sunglasses listing on flipkart"
   ]
  },
  {
   "cell_type": "code",
   "execution_count": 415,
   "id": "ee796aa4",
   "metadata": {},
   "outputs": [],
   "source": [
    "#Import all libraries\n",
    "import selenium\n",
    "from selenium import webdriver\n",
    "import pandas as pd\n",
    "import warnings\n",
    "warnings.filterwarnings(\"ignore\")"
   ]
  },
  {
   "cell_type": "code",
   "execution_count": 433,
   "id": "831221e5",
   "metadata": {},
   "outputs": [],
   "source": [
    "driver = webdriver.Chrome(r'C:\\Users\\Ricky Riddhi\\Downloads\\chromedriver_win32\\chromedriver.exe')"
   ]
  },
  {
   "cell_type": "code",
   "execution_count": 434,
   "id": "65aee2bb",
   "metadata": {},
   "outputs": [],
   "source": [
    "#Get webpage Flipkart.com\n",
    "url = 'https://www.flipkart.com/'\n",
    "driver.get(url)"
   ]
  },
  {
   "cell_type": "code",
   "execution_count": 437,
   "id": "82770782",
   "metadata": {},
   "outputs": [],
   "source": [
    "search_product = driver.find_element_by_class_name(\"_3704LK\")"
   ]
  },
  {
   "cell_type": "code",
   "execution_count": 438,
   "id": "cd5ac3c9",
   "metadata": {},
   "outputs": [],
   "source": [
    "#Finding web element for searching sunglasses\n",
    "search_product.send_keys(\"sunglasses\")"
   ]
  },
  {
   "cell_type": "code",
   "execution_count": 439,
   "id": "ef7d2da1",
   "metadata": {},
   "outputs": [
    {
     "data": {
      "text/plain": [
       "<selenium.webdriver.remote.webelement.WebElement (session=\"4d9c396c970d42e99ad58086b06fa471\", element=\"470b3154-2f81-4229-aef1-ba6c43b1c606\")>"
      ]
     },
     "execution_count": 439,
     "metadata": {},
     "output_type": "execute_result"
    }
   ],
   "source": [
    "subm=driver.find_element_by_class_name(\"L0Z3Pu\")\n",
    "subm"
   ]
  },
  {
   "cell_type": "code",
   "execution_count": 440,
   "id": "5afee7d8",
   "metadata": {},
   "outputs": [],
   "source": [
    "subm.click()"
   ]
  },
  {
   "cell_type": "code",
   "execution_count": 441,
   "id": "d0cfcea4",
   "metadata": {},
   "outputs": [
    {
     "data": {
      "text/plain": [
       "[<selenium.webdriver.remote.webelement.WebElement (session=\"4d9c396c970d42e99ad58086b06fa471\", element=\"e3a7318e-b011-4c58-ae54-d1b1a51a992f\")>,\n",
       " <selenium.webdriver.remote.webelement.WebElement (session=\"4d9c396c970d42e99ad58086b06fa471\", element=\"bc23201d-be04-4373-b555-66a5a66d968e\")>,\n",
       " <selenium.webdriver.remote.webelement.WebElement (session=\"4d9c396c970d42e99ad58086b06fa471\", element=\"f47cb124-fd3a-4566-90fc-dd751b46d88d\")>]"
      ]
     },
     "execution_count": 441,
     "metadata": {},
     "output_type": "execute_result"
    }
   ],
   "source": [
    "brand =  driver.find_elements_by_xpath('//div[@class=\"_2WkVRV\"]')\n",
    "len(brand)\n",
    "brand[0:3]"
   ]
  },
  {
   "cell_type": "code",
   "execution_count": 442,
   "id": "0655e440",
   "metadata": {},
   "outputs": [
    {
     "data": {
      "text/plain": [
       "['Tag Eye', 'VINCENT CHASE', 'SRPM', 'SUNBEE', 'ROZZETTA CRAFT']"
      ]
     },
     "execution_count": 442,
     "metadata": {},
     "output_type": "execute_result"
    }
   ],
   "source": [
    "brandname = []\n",
    "\n",
    "for i in brand:\n",
    "    brandname.append(i.text)\n",
    "len(brandname)\n",
    "brandname[0:5]"
   ]
  },
  {
   "cell_type": "code",
   "execution_count": 443,
   "id": "359ca609",
   "metadata": {},
   "outputs": [
    {
     "data": {
      "text/plain": [
       "[<selenium.webdriver.remote.webelement.WebElement (session=\"4d9c396c970d42e99ad58086b06fa471\", element=\"b644b8b9-7cea-470c-ad5e-08c763c58333\")>,\n",
       " <selenium.webdriver.remote.webelement.WebElement (session=\"4d9c396c970d42e99ad58086b06fa471\", element=\"43665460-c568-4f8f-89f1-fe5ce4299b40\")>,\n",
       " <selenium.webdriver.remote.webelement.WebElement (session=\"4d9c396c970d42e99ad58086b06fa471\", element=\"8dce5e92-8a24-4599-a5a6-55a707b414dc\")>]"
      ]
     },
     "execution_count": 443,
     "metadata": {},
     "output_type": "execute_result"
    }
   ],
   "source": [
    "desc= driver.find_elements_by_xpath('//a[@class=\"IRpwTa\"]')\n",
    "len(desc)\n",
    "desc[0:3]"
   ]
  },
  {
   "cell_type": "code",
   "execution_count": 444,
   "id": "1aa66714",
   "metadata": {},
   "outputs": [
    {
     "data": {
      "text/plain": [
       "['UV Protection Rectangular Sunglasses (60)',\n",
       " 'UV Protection Wayfarer Sunglasses (55)',\n",
       " 'UV Protection Wayfarer Sunglasses (50)',\n",
       " 'UV Protection, Polarized Wayfarer Sunglasses (Free Size...',\n",
       " 'Polarized, Night Vision, Riding Glasses Sports, Wrap-ar...']"
      ]
     },
     "execution_count": 444,
     "metadata": {},
     "output_type": "execute_result"
    }
   ],
   "source": [
    "descd = []\n",
    "\n",
    "for i in desc:\n",
    "    descd.append(i.text)\n",
    "len(descd)\n",
    "descd[0:5]"
   ]
  },
  {
   "cell_type": "code",
   "execution_count": 445,
   "id": "68d296c0",
   "metadata": {},
   "outputs": [
    {
     "data": {
      "text/plain": [
       "[<selenium.webdriver.remote.webelement.WebElement (session=\"4d9c396c970d42e99ad58086b06fa471\", element=\"db1cc4a7-51fb-470c-830e-0494f76e9526\")>,\n",
       " <selenium.webdriver.remote.webelement.WebElement (session=\"4d9c396c970d42e99ad58086b06fa471\", element=\"e8214176-d16c-4d8e-abcc-22aa2137a520\")>,\n",
       " <selenium.webdriver.remote.webelement.WebElement (session=\"4d9c396c970d42e99ad58086b06fa471\", element=\"425ad1e9-6f85-4e93-86b5-cbfa6c67dfd8\")>]"
      ]
     },
     "execution_count": 445,
     "metadata": {},
     "output_type": "execute_result"
    }
   ],
   "source": [
    "price= driver.find_elements_by_xpath('//div[@class=\"_30jeq3\"]')\n",
    "len(price)\n",
    "price[0:3]"
   ]
  },
  {
   "cell_type": "code",
   "execution_count": 446,
   "id": "bacd14b9",
   "metadata": {},
   "outputs": [
    {
     "data": {
      "text/plain": [
       "['₹850', '₹949', '₹198', '₹253', '₹474']"
      ]
     },
     "execution_count": 446,
     "metadata": {},
     "output_type": "execute_result"
    }
   ],
   "source": [
    "price_dt = []\n",
    "\n",
    "for i in price:\n",
    "    price_dt.append(i.text)\n",
    "len(price_dt)\n",
    "price_dt[0:5]"
   ]
  },
  {
   "cell_type": "code",
   "execution_count": 447,
   "id": "0a4c3911",
   "metadata": {},
   "outputs": [],
   "source": [
    "data = list(zip(brandname,descd,price_dt))"
   ]
  },
  {
   "cell_type": "code",
   "execution_count": 448,
   "id": "0663ae99",
   "metadata": {},
   "outputs": [],
   "source": [
    "#sunglasses list\n",
    "sg=pd.DataFrame(data,columns=['Brands','Description','Price'])\n"
   ]
  },
  {
   "cell_type": "code",
   "execution_count": 450,
   "id": "378a44b5",
   "metadata": {},
   "outputs": [
    {
     "data": {
      "text/plain": [
       "<selenium.webdriver.remote.webelement.WebElement (session=\"4d9c396c970d42e99ad58086b06fa471\", element=\"24db064b-1978-4ba4-9b15-b99d52591cb9\")>"
      ]
     },
     "execution_count": 450,
     "metadata": {},
     "output_type": "execute_result"
    }
   ],
   "source": [
    "next=driver.find_element_by_class_name(\"_1LKTO3\")\n",
    "next"
   ]
  },
  {
   "cell_type": "code",
   "execution_count": 458,
   "id": "1f9a5b8a",
   "metadata": {},
   "outputs": [],
   "source": [
    "next.click()"
   ]
  },
  {
   "cell_type": "code",
   "execution_count": 459,
   "id": "a821d3b6",
   "metadata": {},
   "outputs": [],
   "source": [
    "brand1=[]\n",
    "desc1=[]\n",
    "price1=[]"
   ]
  },
  {
   "cell_type": "code",
   "execution_count": 460,
   "id": "bfe09c98",
   "metadata": {},
   "outputs": [],
   "source": [
    "a=  driver.find_elements_by_xpath('//div[@class=\"_2WkVRV\"]')\n",
    "b= driver.find_elements_by_xpath('//a[@class=\"IRpwTa\"]')\n",
    "c= driver.find_elements_by_xpath('//div[@class=\"_30jeq3\"]')"
   ]
  },
  {
   "cell_type": "code",
   "execution_count": 461,
   "id": "6acbfb47",
   "metadata": {},
   "outputs": [],
   "source": [
    "#brand1\n",
    "for i in a:\n",
    "    brandname=i.text\n",
    "    brand1.append(brandname)\n",
    "#desc1\n",
    "for i in b:\n",
    "    desc=i.text\n",
    "    desc1.append(descd)\n",
    "#price1\n",
    "for i in c:\n",
    "    price_dt=i.text\n",
    "    price1.append(price_dt)"
   ]
  },
  {
   "cell_type": "code",
   "execution_count": 462,
   "id": "62ca8aa7",
   "metadata": {},
   "outputs": [],
   "source": [
    "data1=list(zip(brand1,desc1,price1))"
   ]
  },
  {
   "cell_type": "code",
   "execution_count": 463,
   "id": "9af26a57",
   "metadata": {},
   "outputs": [],
   "source": [
    "sg1 = pd.DataFrame(data1,columns=['Brands','Description','Price'])\n",
    "#sg1"
   ]
  },
  {
   "cell_type": "code",
   "execution_count": 493,
   "id": "aa239311",
   "metadata": {},
   "outputs": [
    {
     "data": {
      "text/plain": [
       "<selenium.webdriver.remote.webelement.WebElement (session=\"4d9c396c970d42e99ad58086b06fa471\", element=\"8cab4319-b963-439a-9230-4c39a86710a8\")>"
      ]
     },
     "execution_count": 493,
     "metadata": {},
     "output_type": "execute_result"
    }
   ],
   "source": [
    "next1= driver.find_element_by_xpath('/html/body/div/div/div[3]/div[1]/div[2]/div[12]/div/div/nav/a[3]')\n",
    "next1"
   ]
  },
  {
   "cell_type": "code",
   "execution_count": 494,
   "id": "4e991031",
   "metadata": {},
   "outputs": [],
   "source": [
    "next1.click()"
   ]
  },
  {
   "cell_type": "code",
   "execution_count": 495,
   "id": "9f5b1142",
   "metadata": {},
   "outputs": [],
   "source": [
    "brand2=[]\n",
    "desc2=[]\n",
    "price2=[]"
   ]
  },
  {
   "cell_type": "code",
   "execution_count": 496,
   "id": "a3c75976",
   "metadata": {},
   "outputs": [],
   "source": [
    "d=  driver.find_elements_by_xpath('//div[@class=\"_2WkVRV\"]')\n",
    "e= driver.find_elements_by_xpath('//a[@class=\"IRpwTa\"]')\n",
    "f= driver.find_elements_by_xpath('//div[@class=\"_30jeq3\"]')"
   ]
  },
  {
   "cell_type": "code",
   "execution_count": 497,
   "id": "70778083",
   "metadata": {},
   "outputs": [],
   "source": [
    "#brand2\n",
    "for i in d:\n",
    "    brandname=i.text\n",
    "    brand2.append(brandname)\n",
    "#desc2\n",
    "for i in e:\n",
    "    desc=i.text\n",
    "    desc2.append(descd)\n",
    "#price2\n",
    "for i in f:\n",
    "    price_dt=i.text\n",
    "    price2.append(price_dt)"
   ]
  },
  {
   "cell_type": "code",
   "execution_count": 498,
   "id": "322ec0fb",
   "metadata": {},
   "outputs": [],
   "source": [
    "data2=list(zip(brand2,desc2,price2))"
   ]
  },
  {
   "cell_type": "code",
   "execution_count": 499,
   "id": "9915d18a",
   "metadata": {},
   "outputs": [],
   "source": [
    "sg2=pd.DataFrame(sg2,columns=['Brands','Description','Price'])"
   ]
  },
  {
   "cell_type": "code",
   "execution_count": 500,
   "id": "b2d5fcd8",
   "metadata": {
    "scrolled": true
   },
   "outputs": [],
   "source": [
    "final=pd.concat([sg,sg1,sg2], axis=0)"
   ]
  },
  {
   "cell_type": "code",
   "execution_count": 501,
   "id": "355f4ce3",
   "metadata": {},
   "outputs": [],
   "source": [
    "final.set_index('Brands',inplace=True)"
   ]
  },
  {
   "cell_type": "code",
   "execution_count": 403,
   "id": "637f0382",
   "metadata": {},
   "outputs": [
    {
     "data": {
      "text/html": [
       "<div>\n",
       "<style scoped>\n",
       "    .dataframe tbody tr th:only-of-type {\n",
       "        vertical-align: middle;\n",
       "    }\n",
       "\n",
       "    .dataframe tbody tr th {\n",
       "        vertical-align: top;\n",
       "    }\n",
       "\n",
       "    .dataframe thead th {\n",
       "        text-align: right;\n",
       "    }\n",
       "</style>\n",
       "<table border=\"1\" class=\"dataframe\">\n",
       "  <thead>\n",
       "    <tr style=\"text-align: right;\">\n",
       "      <th></th>\n",
       "      <th>Brands</th>\n",
       "      <th>Description</th>\n",
       "      <th>Price</th>\n",
       "    </tr>\n",
       "  </thead>\n",
       "  <tbody>\n",
       "    <tr>\n",
       "      <th>0</th>\n",
       "      <td>V</td>\n",
       "      <td>by Lenskart Polarized, UV Protection Round Sun...</td>\n",
       "      <td>₹</td>\n",
       "    </tr>\n",
       "    <tr>\n",
       "      <th>1</th>\n",
       "      <td>I</td>\n",
       "      <td>by Lenskart Polarized, UV Protection Aviator S...</td>\n",
       "      <td>9</td>\n",
       "    </tr>\n",
       "    <tr>\n",
       "      <th>2</th>\n",
       "      <td>N</td>\n",
       "      <td>UV Protection Wayfarer Sunglasses (50)</td>\n",
       "      <td>9</td>\n",
       "    </tr>\n",
       "    <tr>\n",
       "      <th>3</th>\n",
       "      <td>C</td>\n",
       "      <td>UV Protection, Polarized Wayfarer Sunglasses (...</td>\n",
       "      <td>9</td>\n",
       "    </tr>\n",
       "    <tr>\n",
       "      <th>0</th>\n",
       "      <td>SHAAH COLLECTIONS</td>\n",
       "      <td>[by Lenskart Polarized, UV Protection Round Su...</td>\n",
       "      <td>₹181</td>\n",
       "    </tr>\n",
       "    <tr>\n",
       "      <th>...</th>\n",
       "      <td>...</td>\n",
       "      <td>...</td>\n",
       "      <td>...</td>\n",
       "    </tr>\n",
       "    <tr>\n",
       "      <th>32</th>\n",
       "      <td>PIRASO</td>\n",
       "      <td>[by Lenskart Polarized, UV Protection Round Su...</td>\n",
       "      <td>₹225</td>\n",
       "    </tr>\n",
       "    <tr>\n",
       "      <th>33</th>\n",
       "      <td>GANSTA</td>\n",
       "      <td>[by Lenskart Polarized, UV Protection Round Su...</td>\n",
       "      <td>₹284</td>\n",
       "    </tr>\n",
       "    <tr>\n",
       "      <th>34</th>\n",
       "      <td>ROYAL SON</td>\n",
       "      <td>[by Lenskart Polarized, UV Protection Round Su...</td>\n",
       "      <td>₹379</td>\n",
       "    </tr>\n",
       "    <tr>\n",
       "      <th>35</th>\n",
       "      <td>LOUIS KOUROS</td>\n",
       "      <td>[by Lenskart Polarized, UV Protection Round Su...</td>\n",
       "      <td>₹1,349</td>\n",
       "    </tr>\n",
       "    <tr>\n",
       "      <th>36</th>\n",
       "      <td>Fastrack</td>\n",
       "      <td>[by Lenskart Polarized, UV Protection Round Su...</td>\n",
       "      <td>₹639</td>\n",
       "    </tr>\n",
       "  </tbody>\n",
       "</table>\n",
       "<p>79 rows × 3 columns</p>\n",
       "</div>"
      ],
      "text/plain": [
       "               Brands                                        Description  \\\n",
       "0                   V  by Lenskart Polarized, UV Protection Round Sun...   \n",
       "1                   I  by Lenskart Polarized, UV Protection Aviator S...   \n",
       "2                   N             UV Protection Wayfarer Sunglasses (50)   \n",
       "3                   C  UV Protection, Polarized Wayfarer Sunglasses (...   \n",
       "0   SHAAH COLLECTIONS  [by Lenskart Polarized, UV Protection Round Su...   \n",
       "..                ...                                                ...   \n",
       "32             PIRASO  [by Lenskart Polarized, UV Protection Round Su...   \n",
       "33             GANSTA  [by Lenskart Polarized, UV Protection Round Su...   \n",
       "34          ROYAL SON  [by Lenskart Polarized, UV Protection Round Su...   \n",
       "35       LOUIS KOUROS  [by Lenskart Polarized, UV Protection Round Su...   \n",
       "36           Fastrack  [by Lenskart Polarized, UV Protection Round Su...   \n",
       "\n",
       "     Price  \n",
       "0        ₹  \n",
       "1        9  \n",
       "2        9  \n",
       "3        9  \n",
       "0     ₹181  \n",
       "..     ...  \n",
       "32    ₹225  \n",
       "33    ₹284  \n",
       "34    ₹379  \n",
       "35  ₹1,349  \n",
       "36    ₹639  \n",
       "\n",
       "[79 rows x 3 columns]"
      ]
     },
     "execution_count": 403,
     "metadata": {},
     "output_type": "execute_result"
    }
   ],
   "source": [
    "final[0:100]"
   ]
  },
  {
   "cell_type": "code",
   "execution_count": 502,
   "id": "a1268585",
   "metadata": {},
   "outputs": [],
   "source": [
    "#question 5- Scrape 100 reviews data from flipkart.com for iphone11 phone. You have to go the link: https://www.flipkart.com/apple-iphone-11-black-64-gb-includes- earpods-poweradapter/p/itm0f37c2240b217?pid=MOBFKCTSVZAXUHGR&lid=LSTMOBFKC TSVZAXUHGREPBFGI&marketplace. As shown in the above page you have to scrape the tick marked attributes. These are:"
   ]
  },
  {
   "cell_type": "code",
   "execution_count": 503,
   "id": "5e1920d9",
   "metadata": {},
   "outputs": [],
   "source": [
    "#Import all libraries\n",
    "import selenium\n",
    "from selenium import webdriver\n",
    "import pandas as pd\n",
    "import warnings\n",
    "warnings.filterwarnings(\"ignore\")"
   ]
  },
  {
   "cell_type": "code",
   "execution_count": 523,
   "id": "0e20381f",
   "metadata": {},
   "outputs": [],
   "source": [
    "driver = webdriver.Chrome(r'C:\\Users\\Ricky Riddhi\\Downloads\\chromedriver_win32\\chromedriver.exe')"
   ]
  },
  {
   "cell_type": "code",
   "execution_count": 524,
   "id": "87d22503",
   "metadata": {},
   "outputs": [],
   "source": [
    "url=\"https://www.flipkart.com/apple-iphone-11-black-64-gb-includes- earpods-poweradapter/p/itm0f37c2240b217?pid=MOBFKCTSVZAXUHGR&lid=LSTMOBFKCTSVZAXUHGREPBFGi&marketplace\""
   ]
  },
  {
   "cell_type": "code",
   "execution_count": 525,
   "id": "bc9e2b2a",
   "metadata": {},
   "outputs": [],
   "source": [
    "driver.get(url)"
   ]
  },
  {
   "cell_type": "code",
   "execution_count": 526,
   "id": "7502a9f3",
   "metadata": {},
   "outputs": [],
   "source": [
    "all_reviews = driver.find_element_by_class_name('_3LWZlK')\n",
    "all_reviews.click()"
   ]
  },
  {
   "cell_type": "code",
   "execution_count": 529,
   "id": "f87bd58f",
   "metadata": {},
   "outputs": [],
   "source": [
    "rating=[]\n",
    "review=[]\n",
    "freview=[]\n",
    "freview_1=[]\n",
    "\n",
    "r=driver.find_elements_by_xpath('//p[@class=\"_2-N8zT\"]')\n",
    "rs=driver.find_elements_by_xpath('//div[@ class=\"t-ZTKy\"]')\n",
    "fr=driver.find_elements_by_xpath(\"//div[@class='_2-N8zT']\")\n",
    "fr_1=driver.find_elements_by_xpath(\"//div[@class='t-ZTKy']\")\n",
    "\n",
    "for i in r:\n",
    "    rat=i.text\n",
    "    rating.append(rat)\n",
    "    \n",
    "for i in rs:\n",
    "    rev=i.text\n",
    "    review.append(rev)\n",
    "\n",
    "for i in fr:\n",
    "    full=i.text\n",
    "    freview.append(full)\n",
    "    \n",
    "for i in fr_1:\n",
    "    ful=i.text\n",
    "    freview_1.append(ful)"
   ]
  },
  {
   "cell_type": "code",
   "execution_count": 530,
   "id": "88acbecb",
   "metadata": {},
   "outputs": [],
   "source": [
    "freview.extend(freview_1)\n",
    "#full_review"
   ]
  },
  {
   "cell_type": "code",
   "execution_count": 532,
   "id": "86ae3e57",
   "metadata": {},
   "outputs": [],
   "source": [
    "data=list(zip(rating,review,freview))"
   ]
  },
  {
   "cell_type": "code",
   "execution_count": 533,
   "id": "0d114336",
   "metadata": {},
   "outputs": [],
   "source": [
    "df=pd.DataFrame(data,columns=['Ratings','Review','Full_Review'])\n",
    "#df"
   ]
  },
  {
   "cell_type": "code",
   "execution_count": 537,
   "id": "fe775e2d",
   "metadata": {},
   "outputs": [],
   "source": [
    "next = driver.find_element_by_xpath('//div[@class=\"_3UAT2v _16PBlm\"]')\n",
    "next.click()"
   ]
  },
  {
   "cell_type": "code",
   "execution_count": 538,
   "id": "32e35ea7",
   "metadata": {},
   "outputs": [],
   "source": [
    "rating0=[]\n",
    "review_summary0=[]\n",
    "full_review0=[]"
   ]
  },
  {
   "cell_type": "code",
   "execution_count": 539,
   "id": "cadae178",
   "metadata": {},
   "outputs": [],
   "source": [
    "r0=driver.find_elements_by_xpath(\"//div[@class='_3LWZlK _1BLPMq']\")\n",
    "rs0=driver.find_elements_by_xpath(\"//p[@class='_2-N8zT']\")\n",
    "fr0=driver.find_elements_by_xpath(\"//div[@class='t-ZTKy']\")\n",
    "\n",
    "for i in r0:\n",
    "    rat=i.text\n",
    "    rating0.append(rat)\n",
    "    \n",
    "for i in rs0:\n",
    "    rev=i.text\n",
    "    review_summary0.append(rev)\n",
    "\n",
    "for i in fr0:\n",
    "    full=i.text\n",
    "    full_review0.append(full)"
   ]
  },
  {
   "cell_type": "code",
   "execution_count": 540,
   "id": "fe93170c",
   "metadata": {},
   "outputs": [],
   "source": [
    "data1=list(zip(rating0,review_summary0,full_review0))"
   ]
  },
  {
   "cell_type": "code",
   "execution_count": 541,
   "id": "09d3abf4",
   "metadata": {},
   "outputs": [],
   "source": [
    "df1=pd.DataFrame(data1,columns=['Ratings','Review','Full_Review'])"
   ]
  },
  {
   "cell_type": "code",
   "execution_count": 542,
   "id": "de9d6866",
   "metadata": {},
   "outputs": [],
   "source": [
    "three = driver.find_element_by_xpath(\"//nav[@class='yFHi8N']/a[3]\")\n",
    "three.click()"
   ]
  },
  {
   "cell_type": "code",
   "execution_count": 543,
   "id": "dd82789a",
   "metadata": {},
   "outputs": [],
   "source": [
    "rating1=[]\n",
    "review_summary1=[]\n",
    "full_review1=[]\n",
    "\n",
    "r1=driver.find_elements_by_xpath(\"//div[@class='_3LWZlK _1BLPMq']\")\n",
    "rs1=driver.find_elements_by_xpath(\"//p[@class='_2-N8zT']\")\n",
    "fr1=driver.find_elements_by_xpath(\"//div[@class='t-ZTKy']\")\n",
    "\n",
    "for i in r1:\n",
    "    rat=i.text\n",
    "    rating1.append(rat)\n",
    "    \n",
    "for i in rs1:\n",
    "    rev=i.text\n",
    "    review_summary1.append(rev)\n",
    "\n",
    "for i in fr1:\n",
    "    full=i.text\n",
    "    full_review1.append(full)"
   ]
  },
  {
   "cell_type": "code",
   "execution_count": 544,
   "id": "cac8e77e",
   "metadata": {},
   "outputs": [],
   "source": [
    "data2=list(zip(rating1,review_summary1,full_review1))"
   ]
  },
  {
   "cell_type": "code",
   "execution_count": 545,
   "id": "55d49824",
   "metadata": {},
   "outputs": [],
   "source": [
    "df2=pd.DataFrame(data2,columns=['Ratings','Review','Full_Review'])"
   ]
  },
  {
   "cell_type": "code",
   "execution_count": 546,
   "id": "12cc4db9",
   "metadata": {},
   "outputs": [],
   "source": [
    "four = driver.find_element_by_xpath(\"//nav[@class='yFHi8N']/a[4]\")\n",
    "four.click()"
   ]
  },
  {
   "cell_type": "code",
   "execution_count": 547,
   "id": "ced47ef2",
   "metadata": {},
   "outputs": [],
   "source": [
    "rating2=[]\n",
    "review_summary2=[]\n",
    "full_review2=[]\n",
    "\n",
    "r2=driver.find_elements_by_xpath(\"//div[@class='_3LWZlK _1BLPMq']\")\n",
    "rs2=driver.find_elements_by_xpath(\"//p[@class='_2-N8zT']\")\n",
    "fr2=driver.find_elements_by_xpath(\"//div[@class='t-ZTKy']\")\n",
    "\n",
    "for i in r2:\n",
    "    rat=i.text\n",
    "    rating2.append(rat)\n",
    "    \n",
    "for i in rs2:\n",
    "    rev=i.text\n",
    "    review_summary2.append(rev)\n",
    "\n",
    "for i in fr2:\n",
    "    full=i.text\n",
    "    full_review2.append(full)"
   ]
  },
  {
   "cell_type": "code",
   "execution_count": 548,
   "id": "02627434",
   "metadata": {},
   "outputs": [],
   "source": [
    "data3=list(zip(rating2,review_summary2,full_review2))"
   ]
  },
  {
   "cell_type": "code",
   "execution_count": 549,
   "id": "af0c16d0",
   "metadata": {},
   "outputs": [],
   "source": [
    "df3=pd.DataFrame(data3,columns=['Ratings','Review','Full_Review'])"
   ]
  },
  {
   "cell_type": "code",
   "execution_count": 550,
   "id": "061eca65",
   "metadata": {},
   "outputs": [],
   "source": [
    "five = driver.find_element_by_xpath(\"//nav[@class='yFHi8N']/a[5]\")\n",
    "five.click()"
   ]
  },
  {
   "cell_type": "code",
   "execution_count": 551,
   "id": "7413d435",
   "metadata": {},
   "outputs": [],
   "source": [
    "rating3=[]\n",
    "review_summary3=[]\n",
    "full_review3=[]\n",
    "\n",
    "r3=driver.find_elements_by_xpath(\"//div[@class='_3LWZlK _1BLPMq']\")\n",
    "rs3=driver.find_elements_by_xpath(\"//p[@class='_2-N8zT']\")\n",
    "fr3=driver.find_elements_by_xpath(\"//div[@class='t-ZTKy']\")\n",
    "\n",
    "for i in r3:\n",
    "    rat=i.text\n",
    "    rating3.append(rat)\n",
    "    \n",
    "for i in rs3:\n",
    "    rev=i.text\n",
    "    review_summary3.append(rev)\n",
    "\n",
    "for i in fr3:\n",
    "    full=i.text\n",
    "    full_review3.append(full)"
   ]
  },
  {
   "cell_type": "code",
   "execution_count": 552,
   "id": "77c703c4",
   "metadata": {},
   "outputs": [],
   "source": [
    "data4=list(zip(rating3,review_summary3,full_review3))"
   ]
  },
  {
   "cell_type": "code",
   "execution_count": 553,
   "id": "5ede8341",
   "metadata": {},
   "outputs": [],
   "source": [
    "df4=pd.DataFrame(data4,columns=['Ratings','Review','Full_Review'])"
   ]
  },
  {
   "cell_type": "code",
   "execution_count": 554,
   "id": "0f212383",
   "metadata": {},
   "outputs": [],
   "source": [
    "six = driver.find_element_by_xpath(\"//nav[@class='yFHi8N']/a[6]\")\n",
    "six.click()"
   ]
  },
  {
   "cell_type": "code",
   "execution_count": 555,
   "id": "1147db22",
   "metadata": {},
   "outputs": [],
   "source": [
    "rating4=[]\n",
    "review_summary4=[]\n",
    "full_review4=[]\n",
    "\n",
    "r4=driver.find_elements_by_xpath(\"//div[@class='_3LWZlK _1BLPMq']\")\n",
    "rs4=driver.find_elements_by_xpath(\"//p[@class='_2-N8zT']\")\n",
    "fr4=driver.find_elements_by_xpath(\"//div[@class='t-ZTKy']\")\n",
    "\n",
    "for i in r4:\n",
    "    rat=i.text\n",
    "    rating4.append(rat)\n",
    "    \n",
    "for i in rs4:\n",
    "    rev=i.text\n",
    "    review_summary4.append(rev)\n",
    "\n",
    "for i in fr4:\n",
    "    full=i.text\n",
    "    full_review4.append(full)"
   ]
  },
  {
   "cell_type": "code",
   "execution_count": 556,
   "id": "ad8e85c8",
   "metadata": {},
   "outputs": [],
   "source": [
    "data5=list(zip(rating4,review_summary4,full_review4))"
   ]
  },
  {
   "cell_type": "code",
   "execution_count": 557,
   "id": "449fd279",
   "metadata": {},
   "outputs": [],
   "source": [
    "df5=pd.DataFrame(data5,columns=['Ratings','Review','Full_Review'])"
   ]
  },
  {
   "cell_type": "code",
   "execution_count": 558,
   "id": "533ed428",
   "metadata": {},
   "outputs": [],
   "source": [
    "seven = driver.find_element_by_xpath(\"//nav[@class='yFHi8N']/a[7]\")\n",
    "seven.click()"
   ]
  },
  {
   "cell_type": "code",
   "execution_count": 559,
   "id": "fb8ab0d5",
   "metadata": {},
   "outputs": [],
   "source": [
    "rating5=[]\n",
    "review_summary5=[]\n",
    "full_review5=[]\n",
    "\n",
    "r5=driver.find_elements_by_xpath(\"//div[@class='_3LWZlK _1BLPMq']\")\n",
    "rs5=driver.find_elements_by_xpath(\"//p[@class='_2-N8zT']\")\n",
    "fr5=driver.find_elements_by_xpath(\"//div[@class='t-ZTKy']\")\n",
    "\n",
    "for i in r5:\n",
    "    rat=i.text\n",
    "    rating5.append(rat)\n",
    "    \n",
    "for i in rs5:\n",
    "    rev=i.text\n",
    "    review_summary5.append(rev)\n",
    "\n",
    "for i in fr5:\n",
    "    full=i.text\n",
    "    full_review5.append(full)"
   ]
  },
  {
   "cell_type": "code",
   "execution_count": 560,
   "id": "0a0b8d67",
   "metadata": {},
   "outputs": [],
   "source": [
    "data6=list(zip(rating5,review_summary5,full_review5))"
   ]
  },
  {
   "cell_type": "code",
   "execution_count": 561,
   "id": "4e7d9607",
   "metadata": {},
   "outputs": [],
   "source": [
    "df6=pd.DataFrame(data6,columns=['Ratings','Review','Full_Review'])"
   ]
  },
  {
   "cell_type": "code",
   "execution_count": 562,
   "id": "b8efe66e",
   "metadata": {},
   "outputs": [],
   "source": [
    "eight = driver.find_element_by_xpath(\"//nav[@class='yFHi8N']/a[8]\")\n",
    "eight.click()"
   ]
  },
  {
   "cell_type": "code",
   "execution_count": 563,
   "id": "80979bf7",
   "metadata": {},
   "outputs": [],
   "source": [
    "rating6=[]\n",
    "review_summary6=[]\n",
    "full_review6=[]\n",
    "\n",
    "r6=driver.find_elements_by_xpath(\"//div[@class='_3LWZlK _1BLPMq']\")\n",
    "rs6=driver.find_elements_by_xpath(\"//p[@class='_2-N8zT']\")\n",
    "fr6=driver.find_elements_by_xpath(\"//div[@class='t-ZTKy']\")\n",
    "\n",
    "for i in r6:\n",
    "    rat=i.text\n",
    "    rating6.append(rat)\n",
    "    \n",
    "for i in rs6:\n",
    "    rev=i.text\n",
    "    review_summary6.append(rev)\n",
    "\n",
    "for i in fr6:\n",
    "    full=i.text\n",
    "    full_review6.append(full)"
   ]
  },
  {
   "cell_type": "code",
   "execution_count": 564,
   "id": "e5cda60f",
   "metadata": {},
   "outputs": [],
   "source": [
    "data7=list(zip(rating6,review_summary6,full_review6))"
   ]
  },
  {
   "cell_type": "code",
   "execution_count": 565,
   "id": "362a5f64",
   "metadata": {},
   "outputs": [],
   "source": [
    "df7=pd.DataFrame(data7,columns=['Ratings','Review','Full_Review'])"
   ]
  },
  {
   "cell_type": "code",
   "execution_count": 566,
   "id": "8104a0a2",
   "metadata": {},
   "outputs": [],
   "source": [
    "nine = driver.find_element_by_xpath(\"//nav[@class='yFHi8N']/a[9]\")\n",
    "nine.click()"
   ]
  },
  {
   "cell_type": "code",
   "execution_count": 567,
   "id": "d1492c85",
   "metadata": {},
   "outputs": [],
   "source": [
    "rating7=[]\n",
    "review_summary7=[]\n",
    "full_review7=[]\n",
    "\n",
    "r7=driver.find_elements_by_xpath(\"//div[@class='_3LWZlK _1BLPMq']\")\n",
    "rs7=driver.find_elements_by_xpath(\"//p[@class='_2-N8zT']\")\n",
    "fr7=driver.find_elements_by_xpath(\"//div[@class='t-ZTKy']\")\n",
    "\n",
    "for i in r7:\n",
    "    rat=i.text\n",
    "    rating7.append(rat)\n",
    "    \n",
    "for i in rs7:\n",
    "    rev=i.text\n",
    "    review_summary7.append(rev)\n",
    "\n",
    "for i in fr7:\n",
    "    full=i.text\n",
    "    full_review7.append(full)"
   ]
  },
  {
   "cell_type": "code",
   "execution_count": 568,
   "id": "f6fc42d4",
   "metadata": {},
   "outputs": [],
   "source": [
    "data8=list(zip(rating7,review_summary7,full_review7))"
   ]
  },
  {
   "cell_type": "code",
   "execution_count": 569,
   "id": "6b97b255",
   "metadata": {},
   "outputs": [],
   "source": [
    "df8=pd.DataFrame(data8,columns=['Ratings','Review','Full_Review'])"
   ]
  },
  {
   "cell_type": "code",
   "execution_count": 570,
   "id": "a94fc635",
   "metadata": {},
   "outputs": [],
   "source": [
    "ten = driver.find_element_by_xpath(\"//nav[@class='yFHi8N']/a[10]\")\n",
    "ten.click()"
   ]
  },
  {
   "cell_type": "code",
   "execution_count": 571,
   "id": "06c54e01",
   "metadata": {},
   "outputs": [],
   "source": [
    "rating8=[]\n",
    "review_summary8=[]\n",
    "full_review8=[]\n",
    "\n",
    "r8=driver.find_elements_by_xpath(\"//div[@class='_3LWZlK _1BLPMq']\")\n",
    "rs8=driver.find_elements_by_xpath(\"//p[@class='_2-N8zT']\")\n",
    "fr8=driver.find_elements_by_xpath(\"//div[@class='t-ZTKy']\")\n",
    "\n",
    "for i in r8:\n",
    "    rat=i.text\n",
    "    rating8.append(rat)\n",
    "    \n",
    "for i in rs8:\n",
    "    rev=i.text\n",
    "    review_summary8.append(rev)\n",
    "\n",
    "for i in fr8:\n",
    "    full=i.text\n",
    "    full_review8.append(full)"
   ]
  },
  {
   "cell_type": "code",
   "execution_count": 572,
   "id": "d21d2176",
   "metadata": {},
   "outputs": [],
   "source": [
    "data9=list(zip(rating8,review_summary8,full_review8))"
   ]
  },
  {
   "cell_type": "code",
   "execution_count": 573,
   "id": "cf8c91e3",
   "metadata": {},
   "outputs": [
    {
     "data": {
      "text/html": [
       "<div>\n",
       "<style scoped>\n",
       "    .dataframe tbody tr th:only-of-type {\n",
       "        vertical-align: middle;\n",
       "    }\n",
       "\n",
       "    .dataframe tbody tr th {\n",
       "        vertical-align: top;\n",
       "    }\n",
       "\n",
       "    .dataframe thead th {\n",
       "        text-align: right;\n",
       "    }\n",
       "</style>\n",
       "<table border=\"1\" class=\"dataframe\">\n",
       "  <thead>\n",
       "    <tr style=\"text-align: right;\">\n",
       "      <th></th>\n",
       "      <th>Review</th>\n",
       "      <th>Full_Review</th>\n",
       "    </tr>\n",
       "    <tr>\n",
       "      <th>Ratings</th>\n",
       "      <th></th>\n",
       "      <th></th>\n",
       "    </tr>\n",
       "  </thead>\n",
       "  <tbody>\n",
       "    <tr>\n",
       "      <th>4</th>\n",
       "      <td>Wonderful</td>\n",
       "      <td>I genuinely liked it. One of the best mobile p...</td>\n",
       "    </tr>\n",
       "    <tr>\n",
       "      <th>5</th>\n",
       "      <td>Mind-blowing purchase</td>\n",
       "      <td>Flipkart honoured on time delivery, I have use...</td>\n",
       "    </tr>\n",
       "    <tr>\n",
       "      <th>4</th>\n",
       "      <td>Good quality product</td>\n",
       "      <td>Awesome camera, smooth and fast UI, display is...</td>\n",
       "    </tr>\n",
       "    <tr>\n",
       "      <th>5</th>\n",
       "      <td>Fabulous!</td>\n",
       "      <td>Good product nice experience with Flipkart but...</td>\n",
       "    </tr>\n",
       "    <tr>\n",
       "      <th>5</th>\n",
       "      <td>Worth every penny</td>\n",
       "      <td>Here is the thing\\n\\nThe only reason why you s...</td>\n",
       "    </tr>\n",
       "  </tbody>\n",
       "</table>\n",
       "</div>"
      ],
      "text/plain": [
       "                        Review  \\\n",
       "Ratings                          \n",
       "4                    Wonderful   \n",
       "5        Mind-blowing purchase   \n",
       "4         Good quality product   \n",
       "5                    Fabulous!   \n",
       "5            Worth every penny   \n",
       "\n",
       "                                               Full_Review  \n",
       "Ratings                                                     \n",
       "4        I genuinely liked it. One of the best mobile p...  \n",
       "5        Flipkart honoured on time delivery, I have use...  \n",
       "4        Awesome camera, smooth and fast UI, display is...  \n",
       "5        Good product nice experience with Flipkart but...  \n",
       "5        Here is the thing\\n\\nThe only reason why you s...  "
      ]
     },
     "execution_count": 573,
     "metadata": {},
     "output_type": "execute_result"
    }
   ],
   "source": [
    "df9=pd.DataFrame(data9,columns=['Ratings','Review','Full_Review'])\n",
    "final = pd.concat([df,df1,df2,df3,df4,df5,df6,df7,df8,df9],axis=0)\n",
    "final.set_index('Ratings').tail()"
   ]
  },
  {
   "cell_type": "code",
   "execution_count": 575,
   "id": "6b73057d",
   "metadata": {},
   "outputs": [],
   "source": [
    "#Question 6: Scrape data for 100 sneakers"
   ]
  },
  {
   "cell_type": "code",
   "execution_count": 736,
   "id": "4441b95d",
   "metadata": {},
   "outputs": [],
   "source": [
    "#Import all libraries\n",
    "import selenium\n",
    "from selenium import webdriver\n",
    "import pandas as pd\n",
    "import warnings\n",
    "warnings.filterwarnings(\"ignore\")"
   ]
  },
  {
   "cell_type": "code",
   "execution_count": 737,
   "id": "3fd4b195",
   "metadata": {},
   "outputs": [],
   "source": [
    "driver = webdriver.Chrome(r'C:\\Users\\Ricky Riddhi\\Downloads\\chromedriver_win32\\chromedriver.exe')"
   ]
  },
  {
   "cell_type": "code",
   "execution_count": 738,
   "id": "8c6b7d9f",
   "metadata": {},
   "outputs": [],
   "source": [
    "#Get webpage Flipkart.com\n",
    "url = 'https://www.flipkart.com/'\n",
    "driver.get(url)"
   ]
  },
  {
   "cell_type": "code",
   "execution_count": 739,
   "id": "ff78a597",
   "metadata": {},
   "outputs": [],
   "source": [
    "search_product = driver.find_element_by_class_name(\"_3704LK\")"
   ]
  },
  {
   "cell_type": "code",
   "execution_count": 740,
   "id": "0e34bdd6",
   "metadata": {},
   "outputs": [],
   "source": [
    "#Finding web element for searching sneakers\n",
    "search_product.send_keys(\"sneakers\")"
   ]
  },
  {
   "cell_type": "code",
   "execution_count": 741,
   "id": "2f767e40",
   "metadata": {},
   "outputs": [],
   "source": [
    "subm=driver.find_element_by_class_name(\"L0Z3Pu\")\n",
    "subm.click()"
   ]
  },
  {
   "cell_type": "code",
   "execution_count": 742,
   "id": "45e89851",
   "metadata": {},
   "outputs": [],
   "source": [
    "brand=[]\n",
    "b=driver.find_elements_by_xpath(\"//div[@class='_2WkVRV']\")\n",
    "product_description=[]\n",
    "p=driver.find_elements_by_xpath(\"//a[@class='IRpwTa']\")\n",
    "price=[]\n",
    "pr=driver.find_elements_by_xpath(\"//div[@class='_30jeq3']\")"
   ]
  },
  {
   "cell_type": "code",
   "execution_count": 743,
   "id": "c2d022ba",
   "metadata": {},
   "outputs": [],
   "source": [
    "for i in b:\n",
    "    br=i.text\n",
    "    brand.append(br)\n",
    "\n",
    "for i in p:\n",
    "    pd=i.text\n",
    "    product_description.append(pd)\n",
    "\n",
    "for i in pr:\n",
    "    p=i.text\n",
    "    price.append(p)"
   ]
  },
  {
   "cell_type": "code",
   "execution_count": 744,
   "id": "207f068d",
   "metadata": {},
   "outputs": [],
   "source": [
    "data = list(zip(brand,product_description,price))"
   ]
  },
  {
   "cell_type": "code",
   "execution_count": 745,
   "id": "c93f3b64",
   "metadata": {
    "scrolled": false
   },
   "outputs": [],
   "source": [
    "df=pd.DataFrame(data,columns=['Brand','Description','Price'])"
   ]
  },
  {
   "cell_type": "code",
   "execution_count": 746,
   "id": "4f083c48",
   "metadata": {},
   "outputs": [],
   "source": [
    "two=driver.find_element_by_xpath(\"//nav[@class='yFHi8N']/a[3]\").click()"
   ]
  },
  {
   "cell_type": "code",
   "execution_count": 747,
   "id": "2fd700a9",
   "metadata": {},
   "outputs": [],
   "source": [
    "brand1=[]\n",
    "product_description1=[]\n",
    "price1=[]"
   ]
  },
  {
   "cell_type": "code",
   "execution_count": 748,
   "id": "c71869f3",
   "metadata": {},
   "outputs": [],
   "source": [
    "b1=driver.find_elements_by_xpath(\"//div[@class='_2WkVRV']\")\n",
    "p1=driver.find_elements_by_xpath(\"//a[@class='IRpwTa']\")\n",
    "pr1=driver.find_elements_by_xpath(\"//div[@class='_30jeq3']\")"
   ]
  },
  {
   "cell_type": "code",
   "execution_count": 756,
   "id": "3089782a",
   "metadata": {},
   "outputs": [],
   "source": [
    "for i in b1:\n",
    "    br=i.text\n",
    "    brand1.append(br)\n",
    "\n",
    "for i in p1:\n",
    "    pd=i.text\n",
    "    product_description1.append(pd)\n",
    "\n",
    "for i in pr1:\n",
    "    p=i.text\n",
    "    price1.append(p)"
   ]
  },
  {
   "cell_type": "code",
   "execution_count": 759,
   "id": "4ff79efe",
   "metadata": {},
   "outputs": [],
   "source": [
    "data1 = list(zip(brand1,product_description1,price1))"
   ]
  },
  {
   "cell_type": "code",
   "execution_count": 769,
   "id": "385d302d",
   "metadata": {},
   "outputs": [],
   "source": [
    "import pandas as pd"
   ]
  },
  {
   "cell_type": "code",
   "execution_count": 783,
   "id": "7b1a7bfe",
   "metadata": {
    "scrolled": true
   },
   "outputs": [],
   "source": [
    "df1=pd.DataFrame(data1,columns=['Brand','Description','Price'])"
   ]
  },
  {
   "cell_type": "code",
   "execution_count": 784,
   "id": "e20db6b7",
   "metadata": {},
   "outputs": [],
   "source": [
    "three=driver.find_element_by_xpath(\"//nav[@class='yFHi8N']/a[4]\").click()"
   ]
  },
  {
   "cell_type": "code",
   "execution_count": 785,
   "id": "43507cd8",
   "metadata": {},
   "outputs": [],
   "source": [
    "brand2=[]\n",
    "product_description2=[]\n",
    "price2=[]"
   ]
  },
  {
   "cell_type": "code",
   "execution_count": 786,
   "id": "d33c0e02",
   "metadata": {},
   "outputs": [],
   "source": [
    "b2=driver.find_elements_by_xpath(\"//div[@class='_2WkVRV']\")\n",
    "p2=driver.find_elements_by_xpath(\"//a[@class='IRpwTa']\")\n",
    "pr2=driver.find_elements_by_xpath(\"//div[@class='_30jeq3']\")"
   ]
  },
  {
   "cell_type": "code",
   "execution_count": 787,
   "id": "043c6abb",
   "metadata": {},
   "outputs": [],
   "source": [
    "for i in b2:\n",
    "    br=i.text\n",
    "    brand2.append(br)\n",
    "\n",
    "for i in p2:\n",
    "    pd=i.text\n",
    "    product_description2.append(pd)\n",
    "\n",
    "for i in pr2:\n",
    "    p=i.text\n",
    "    price2.append(p)"
   ]
  },
  {
   "cell_type": "code",
   "execution_count": 788,
   "id": "79740a6e",
   "metadata": {},
   "outputs": [],
   "source": [
    "data2 = list(zip(brand2,product_description2,price2))"
   ]
  },
  {
   "cell_type": "code",
   "execution_count": 789,
   "id": "4b022027",
   "metadata": {},
   "outputs": [],
   "source": [
    "import pandas as pd"
   ]
  },
  {
   "cell_type": "code",
   "execution_count": 790,
   "id": "5bae22de",
   "metadata": {},
   "outputs": [],
   "source": [
    "df2=pd.DataFrame(data2,columns=['Brand','Description','Price'])"
   ]
  },
  {
   "cell_type": "code",
   "execution_count": 791,
   "id": "014aada6",
   "metadata": {},
   "outputs": [],
   "source": [
    "four=driver.find_element_by_xpath(\"//nav[@class='yFHi8N']/a[5]\").click()"
   ]
  },
  {
   "cell_type": "code",
   "execution_count": 792,
   "id": "964345d0",
   "metadata": {},
   "outputs": [],
   "source": [
    "brand3=[]\n",
    "product_description3=[]\n",
    "price3=[]"
   ]
  },
  {
   "cell_type": "code",
   "execution_count": 793,
   "id": "f454e49a",
   "metadata": {},
   "outputs": [],
   "source": [
    "b3=driver.find_elements_by_xpath(\"//div[@class='_2WkVRV']\")\n",
    "p3=driver.find_elements_by_xpath(\"//a[@class='IRpwTa']\")\n",
    "pr3=driver.find_elements_by_xpath(\"//div[@class='_30jeq3']\")\n",
    "\n",
    "for i in b3:\n",
    "    br=i.text\n",
    "    brand3.append(br)\n",
    "\n",
    "for i in p3:\n",
    "    pd=i.text\n",
    "    product_description3.append(pd)\n",
    "\n",
    "for i in pr3:\n",
    "    p=i.text\n",
    "    price3.append(p)"
   ]
  },
  {
   "cell_type": "code",
   "execution_count": 781,
   "id": "7288952b",
   "metadata": {},
   "outputs": [],
   "source": [
    "data3 = list(zip(brand3,product_description3,price3))"
   ]
  },
  {
   "cell_type": "code",
   "execution_count": 795,
   "id": "bbd9bdde",
   "metadata": {},
   "outputs": [],
   "source": [
    "import pandas as pd"
   ]
  },
  {
   "cell_type": "code",
   "execution_count": 796,
   "id": "876f8fda",
   "metadata": {},
   "outputs": [],
   "source": [
    "df3=pd.DataFrame(data3,columns=['Brand','Description','Price'])"
   ]
  },
  {
   "cell_type": "code",
   "execution_count": 797,
   "id": "665a3540",
   "metadata": {},
   "outputs": [],
   "source": [
    "import pandas as pd"
   ]
  },
  {
   "cell_type": "code",
   "execution_count": 798,
   "id": "4f47aeef",
   "metadata": {},
   "outputs": [],
   "source": [
    "Sneakers=pd.concat([df,df1,df2,df3],axis=0)"
   ]
  },
  {
   "cell_type": "code",
   "execution_count": 799,
   "id": "253f2c6d",
   "metadata": {},
   "outputs": [
    {
     "data": {
      "text/html": [
       "<div>\n",
       "<style scoped>\n",
       "    .dataframe tbody tr th:only-of-type {\n",
       "        vertical-align: middle;\n",
       "    }\n",
       "\n",
       "    .dataframe tbody tr th {\n",
       "        vertical-align: top;\n",
       "    }\n",
       "\n",
       "    .dataframe thead th {\n",
       "        text-align: right;\n",
       "    }\n",
       "</style>\n",
       "<table border=\"1\" class=\"dataframe\">\n",
       "  <thead>\n",
       "    <tr style=\"text-align: right;\">\n",
       "      <th></th>\n",
       "      <th>Brand</th>\n",
       "      <th>Description</th>\n",
       "      <th>Price</th>\n",
       "    </tr>\n",
       "  </thead>\n",
       "  <tbody>\n",
       "    <tr>\n",
       "      <th>0</th>\n",
       "      <td>AMICO</td>\n",
       "      <td>Sneakers For Men</td>\n",
       "      <td>₹449</td>\n",
       "    </tr>\n",
       "    <tr>\n",
       "      <th>1</th>\n",
       "      <td>BAUCHHAAR</td>\n",
       "      <td>sports shoes for men | Latest Stylish Casual s...</td>\n",
       "      <td>₹349</td>\n",
       "    </tr>\n",
       "    <tr>\n",
       "      <th>2</th>\n",
       "      <td>Robbie jones</td>\n",
       "      <td>Sneakers For Men</td>\n",
       "      <td>₹449</td>\n",
       "    </tr>\n",
       "    <tr>\n",
       "      <th>3</th>\n",
       "      <td>RapidBox</td>\n",
       "      <td>Sneakers For Men</td>\n",
       "      <td>₹570</td>\n",
       "    </tr>\n",
       "    <tr>\n",
       "      <th>4</th>\n",
       "      <td>Deals4you</td>\n",
       "      <td>High Top Casual Party Wear Boot Stylish Sneake...</td>\n",
       "      <td>₹349</td>\n",
       "    </tr>\n",
       "  </tbody>\n",
       "</table>\n",
       "</div>"
      ],
      "text/plain": [
       "          Brand                                        Description Price\n",
       "0         AMICO                                   Sneakers For Men  ₹449\n",
       "1     BAUCHHAAR  sports shoes for men | Latest Stylish Casual s...  ₹349\n",
       "2  Robbie jones                                   Sneakers For Men  ₹449\n",
       "3      RapidBox                                   Sneakers For Men  ₹570\n",
       "4     Deals4you  High Top Casual Party Wear Boot Stylish Sneake...  ₹349"
      ]
     },
     "execution_count": 799,
     "metadata": {},
     "output_type": "execute_result"
    }
   ],
   "source": [
    "Sneakers.head()"
   ]
  },
  {
   "cell_type": "code",
   "execution_count": null,
   "id": "f7457fbb",
   "metadata": {},
   "outputs": [],
   "source": []
  }
 ],
 "metadata": {
  "kernelspec": {
   "display_name": "Python 3",
   "language": "python",
   "name": "python3"
  },
  "language_info": {
   "codemirror_mode": {
    "name": "ipython",
    "version": 3
   },
   "file_extension": ".py",
   "mimetype": "text/x-python",
   "name": "python",
   "nbconvert_exporter": "python",
   "pygments_lexer": "ipython3",
   "version": "3.8.8"
  }
 },
 "nbformat": 4,
 "nbformat_minor": 5
}
